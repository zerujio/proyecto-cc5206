{
 "cells": [
  {
   "cell_type": "markdown",
   "id": "ba6c1199",
   "metadata": {},
   "source": [
    "# Introducción\n",
    "\n",
    "El siguiente informa abarca estudios en torno a la educación primaria y secundaria en Chile, y tiene como principal objetivo caracterizar la relación entre el promedio general y distintas variables, como la condición de ruralidad, región geográfica, género, tipo de dependencia. Estas variables están presentes en el mismo dataset otorgado por el MINEDUC, que contiene gran información acerda de tres millones de estudiantes. Como es bien sabido, Chile es un país muy desigual y sumamente segregado en varios ámbitos. El objetivo de este proyecto es buscar patrones en los datos que puedan reflejar estas desigualdades.\n",
    "\n",
    "El informe contiene análisis y síntesis de distintas observaciones en torno a los estudios y visualizaciones del comportamiento de estas variables."
   ]
  },
  {
   "cell_type": "markdown",
   "id": "b2208cfa",
   "metadata": {},
   "source": [
    "# Exploración\n",
    "\n",
    "// Aquí debería ir la parte de exploración del informe anterior"
   ]
  },
  {
   "cell_type": "markdown",
   "id": "2f07e495",
   "metadata": {},
   "source": [
    "# Preguntas y problemas\n",
    "\n",
    "Al examinar el dataset se hace evidente que muchas variables no tienen el poder predictivo que se esperaba. Las diferencias más marcadas se dan en relación a la ubicación geográfica y el código de dependencia. Creemos que esto se debe a que los sistemas de evaluación utilizados por los colegios no están estandarizados mucho más allá de la escala de notas y los contenidos a pasar. Hay una multiplicidad de variables que afectan la forma en que los colegios evalúan a sus alumnos, por lo que las notas son poco comparables entre alumnos de colegios distintos. En consecuencia, es evidente que es necesario añadir datos que sean comparables entre colegios, o bien, derivar tales variables a partir de los atributos ya existentes. Por ejemplo, se puede considerar la distribución de notas de los colegios y tomar en cuenta la posición del alumno en relación a sus compañeros. \n",
    "\n",
    "Es necesario, entonces, buscar relaciones más complejas entre las variables. Al comparar promedios una variable a la vez se hace difícil observar tendencias. Por tanto, nos interesa utilizar algoritmos de clustering para determinar si existen combinaciones de variables que generen grupos de alumnos con rendimiento escolar similar. En general, del análisis de datos como los resultados de la PSU se observa que en Chile existe esta segregación, y nos interesa determinar si es posible identificarlos con los datos disponibles en este dataset."
   ]
  },
  {
   "cell_type": "markdown",
   "id": "64499fc1",
   "metadata": {},
   "source": [
    "# Propuesta experimental\n",
    "\n",
    "Esto es parte del hito 2. Proponer y justificar los experimentos para el hito 3."
   ]
  },
  {
   "cell_type": "markdown",
   "id": "fde37183",
   "metadata": {},
   "source": [
    "## Implementación\n",
    "\n",
    "Implementar al menos uno de los experimentos propuestos."
   ]
  }
 ],
 "metadata": {
  "kernelspec": {
   "display_name": "Python 3 (ipykernel)",
   "language": "python",
   "name": "python3"
  },
  "language_info": {
   "codemirror_mode": {
    "name": "ipython",
    "version": 3
   },
   "file_extension": ".py",
   "mimetype": "text/x-python",
   "name": "python",
   "nbconvert_exporter": "python",
   "pygments_lexer": "ipython3",
   "version": "3.9.7"
  }
 },
 "nbformat": 4,
 "nbformat_minor": 5
}
