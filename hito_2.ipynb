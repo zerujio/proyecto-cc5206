{
 "cells": [
  {
   "cell_type": "markdown",
   "id": "a1bf6111",
   "metadata": {},
   "source": [
    "# Introducción\n",
    "\n",
    "El siguiente informa abarca estudios en torno a la educación primaria y secundaria en Chile, y tiene como principal objetivo caracterizar la relación entre el promedio general y distintas variables, como la condición de ruralidad, región geográfica, género, tipo de dependencia. Estas variables están presentes en el mismo dataset otorgado por el MINEDUC, que contiene gran información acerda de tres millones de estudiantes. Como es bien sabido, Chile es un país muy desigual y sumamente segregado en varios ámbitos. El objetivo de este proyecto es buscar patrones en los datos que puedan reflejar estas desigualdades.\n",
    "\n",
    "El informe contiene análisis y síntesis de distintas observaciones en torno a los estudios y visualizaciones del comportamiento de estas variables."
   ]
  },
  {
   "cell_type": "markdown",
   "id": "1e42963d",
   "metadata": {},
   "source": [
    "# Exploración\n"
   ]
  },
  {
   "cell_type": "code",
   "execution_count": 55,
   "id": "77de47ad",
   "metadata": {},
   "outputs": [],
   "source": [
    "import pandas as pd\n",
    "import numpy as np\n",
    "\n",
    "rendimiento = pd.read_csv(\"datos/mineduc/rendimiento_escolar/2020.csv\",\n",
    "                          sep=\";\", decimal=\",\",\n",
    "                          dtype={\n",
    "                              \"NOM_RBD\":\"category\",\n",
    "                              \"NOM_REG_RBD_A\":\"category\",\n",
    "                              \"NOM_COM_RBD\":\"category\",\n",
    "                              \"NOM_DEPROV_RBD\":\"category\",\n",
    "                              \"LET_CUR\":\"category\",\n",
    "                              \"GEN_ALU\":\"category\",\n",
    "                              \"NOM_COM_ALU\":\"category\",\n",
    "                              \"SIT_FIN\":\"category\",\n",
    "                              \"SIT_FIN_R\":\"category\",\n",
    "                              \"RURAL_RBD\":\"category\",\n",
    "                              \"COD_DEPE\":\"category\",\n",
    "                              \"ESTADO_ESTAB\":\"category\"},\n",
    "                          converters={\"EDAD_ALU\": lambda s : int(s) if s != ' ' else 0})"
   ]
  },
  {
   "cell_type": "code",
   "execution_count": 56,
   "id": "ae2aaa48",
   "metadata": {},
   "outputs": [
    {
     "data": {
      "text/plain": [
       "0          PROMOVIDO\n",
       "1          PROMOVIDO\n",
       "2           RETIRADO\n",
       "3          PROMOVIDO\n",
       "4          PROMOVIDO\n",
       "             ...    \n",
       "3164529    PROMOVIDO\n",
       "3164530    PROMOVIDO\n",
       "3164531    PROMOVIDO\n",
       "3164532    PROMOVIDO\n",
       "3164533    PROMOVIDO\n",
       "Name: SIT_FIN_R, Length: 3164534, dtype: category\n",
       "Categories (5, object): ['PROMOVIDO', 'REPROBADO', 'TRASLADADO', 'RETIRADO', 'SIN_INFO']"
      ]
     },
     "execution_count": 56,
     "metadata": {},
     "output_type": "execute_result"
    }
   ],
   "source": [
    "# cambio de nombre para algunas categorias\n",
    "rendimiento.GEN_ALU.cat.categories = [\"HOMBRE\", \"MUJER\", \"S/I\"]\n",
    "\n",
    "rendimiento.RURAL_RBD.cat.categories = [\"URBANO\", \"RURAL\"]\n",
    "\n",
    "rendimiento.COD_DEPE = rendimiento.COD_DEPE.cat.rename_categories(\n",
    "    {\"1\":\"CORP_MUNICIPAL\", \"2\":\"MUNICIPAL_DAEM\", \"3\":\"PARTICULAR_SUBVEN\",\n",
    "     \"4\":\"PARTICULAR_PAGADO\", \"5\":\"CORP_ADMIN_DELEGD\", \"6\":\"SERVI_LOCAL_EDUCA\"})\n",
    "\n",
    "rendimiento.ESTADO_ESTAB = rendimiento.ESTADO_ESTAB.cat.rename_categories(\n",
    "    {\"1\":\"FUNCIONANDO\",\"2\":\"RECESO\", \"3\":\"CERRADO\"}\n",
    ")\n",
    "\n",
    "rendimiento.SIT_FIN = rendimiento.SIT_FIN.cat.rename_categories(\n",
    "    {\" \":\"SIN_INFO\", \"P\":\"PROMOVIDO\", \"R\":\"REPROBADO\", \"Y\":\"RETIRADO\"}\n",
    ")\n",
    "\n",
    "rendimiento.SIT_FIN_R = rendimiento.SIT_FIN_R.cat.rename_categories (\n",
    "    {\" \":\"SIN_INFO\", \"P\":\"PROMOVIDO\", \"R\":\"REPROBADO\", \"Y\":\"RETIRADO\", \"T\":\"TRASLADADO\"}\n",
    ")\n",
    "pass\n",
    "rendimiento.SIT_FIN_R"
   ]
  },
  {
   "cell_type": "code",
   "execution_count": 3,
   "id": "8c39e9b1",
   "metadata": {},
   "outputs": [
    {
     "name": "stdout",
     "output_type": "stream",
     "text": [
      "<class 'pandas.core.frame.DataFrame'>\n",
      "RangeIndex: 3164534 entries, 0 to 3164533\n",
      "Data columns (total 37 columns):\n",
      " #   Column          Dtype   \n",
      "---  ------          -----   \n",
      " 0   AGNO            int64   \n",
      " 1   RBD             int64   \n",
      " 2   DGV_RBD         int64   \n",
      " 3   NOM_RBD         category\n",
      " 4   COD_REG_RBD     int64   \n",
      " 5   NOM_REG_RBD_A   category\n",
      " 6   COD_PRO_RBD     int64   \n",
      " 7   COD_COM_RBD     int64   \n",
      " 8   NOM_COM_RBD     category\n",
      " 9   COD_DEPROV_RBD  int64   \n",
      " 10  NOM_DEPROV_RBD  category\n",
      " 11  COD_DEPE        category\n",
      " 12  COD_DEPE2       int64   \n",
      " 13  RURAL_RBD       category\n",
      " 14  ESTADO_ESTAB    category\n",
      " 15  COD_ENSE        int64   \n",
      " 16  COD_ENSE2       int64   \n",
      " 17  COD_GRADO       int64   \n",
      " 18  LET_CUR         category\n",
      " 19  COD_JOR         int64   \n",
      " 20  COD_TIP_CUR     int64   \n",
      " 21  COD_DES_CUR     int64   \n",
      " 22  MRUN            int64   \n",
      " 23  GEN_ALU         category\n",
      " 24  FEC_NAC_ALU     int64   \n",
      " 25  EDAD_ALU        int64   \n",
      " 26  COD_REG_ALU     int64   \n",
      " 27  COD_COM_ALU     int64   \n",
      " 28  NOM_COM_ALU     category\n",
      " 29  COD_RAMA        int64   \n",
      " 30  COD_SEC         int64   \n",
      " 31  COD_ESPE        int64   \n",
      " 32  PROM_GRAL       float64 \n",
      " 33  ASISTENCIA      int64   \n",
      " 34  SIT_FIN         category\n",
      " 35  SIT_FIN_R       category\n",
      " 36  COD_MEN         int64   \n",
      "dtypes: category(12), float64(1), int64(24)\n",
      "memory usage: 649.2 MB\n"
     ]
    }
   ],
   "source": [
    "rendimiento.info()"
   ]
  },
  {
   "cell_type": "markdown",
   "id": "b88efcbd",
   "metadata": {},
   "source": [
    "El dataset abarca más de 3 millones de alumnos.\n",
    "\n",
    "Si bien hay muchas columnas, los datos que estas proveen pueden ser agrupados en menos categorías:\n",
    "\n",
    "- Identificación del alumno: edad, género, y lugar de residencia\n",
    "- Rendimiento del alumno: curso, promedio general y porcentaje de asistencia\n",
    "- Identificación del colegio: identificador único (RBD), ubicación, administración (municipal, particular subvencionado, etc.).\n",
    "- Tipo de enseñanza: técnico-profesional, científico-humanista, para adultos, etc."
   ]
  },
  {
   "cell_type": "markdown",
   "id": "a98e7a9f",
   "metadata": {},
   "source": [
    "## Cobertura"
   ]
  },
  {
   "cell_type": "code",
   "execution_count": 4,
   "id": "f3ee81d6",
   "metadata": {
    "scrolled": false
   },
   "outputs": [
    {
     "name": "stdout",
     "output_type": "stream",
     "text": [
      "Hay 56 provincias, 345 comunas y 9040 establecimientos distintos.\n"
     ]
    }
   ],
   "source": [
    "print(f\"Hay {len(rendimiento.COD_PRO_RBD.unique())} provincias, \"\n",
    "    + f\"{len(rendimiento.COD_COM_RBD.unique())} comunas\"\n",
    "    + f\" y {len(rendimiento.RBD.unique())} establecimientos distintos.\")"
   ]
  },
  {
   "cell_type": "markdown",
   "id": "78e1febb",
   "metadata": {},
   "source": [
    "Chile tiene 56 provincias y 346 comunas, es decir, hay una sola comuna para la cual no hay ningún establecimiento en los datos. Todo el resto del territorio debiese estar representado.\n",
    "\n",
    "De una [fuente externa](https://www.bcn.cl/siit/estadisticasterritoriales//resultados-consulta?id=82491) se obtiene que en Chile existen 11342 establecimientos educacionales, de los cuales 9040 están presentes en los datos. No está claro por qué estos establecimientos están ausentes, pero es probable que sean aquellos con menor cantidad de estudiantes. En general, el dataset parece ser bastante completo."
   ]
  },
  {
   "cell_type": "markdown",
   "id": "b423f98d",
   "metadata": {},
   "source": [
    "## Datos faltantes o incompletos"
   ]
  },
  {
   "cell_type": "code",
   "execution_count": 10,
   "id": "67f4ecd3",
   "metadata": {},
   "outputs": [
    {
     "data": {
      "text/html": [
       "<div>\n",
       "<style scoped>\n",
       "    .dataframe tbody tr th:only-of-type {\n",
       "        vertical-align: middle;\n",
       "    }\n",
       "\n",
       "    .dataframe tbody tr th {\n",
       "        vertical-align: top;\n",
       "    }\n",
       "\n",
       "    .dataframe thead th {\n",
       "        text-align: right;\n",
       "    }\n",
       "</style>\n",
       "<table border=\"1\" class=\"dataframe\">\n",
       "  <thead>\n",
       "    <tr style=\"text-align: right;\">\n",
       "      <th></th>\n",
       "      <th>AGNO</th>\n",
       "      <th>RBD</th>\n",
       "      <th>DGV_RBD</th>\n",
       "      <th>NOM_RBD</th>\n",
       "      <th>COD_REG_RBD</th>\n",
       "      <th>NOM_REG_RBD_A</th>\n",
       "      <th>COD_PRO_RBD</th>\n",
       "      <th>COD_COM_RBD</th>\n",
       "      <th>NOM_COM_RBD</th>\n",
       "      <th>COD_DEPROV_RBD</th>\n",
       "      <th>...</th>\n",
       "      <th>COD_COM_ALU</th>\n",
       "      <th>NOM_COM_ALU</th>\n",
       "      <th>COD_RAMA</th>\n",
       "      <th>COD_SEC</th>\n",
       "      <th>COD_ESPE</th>\n",
       "      <th>PROM_GRAL</th>\n",
       "      <th>ASISTENCIA</th>\n",
       "      <th>SIT_FIN</th>\n",
       "      <th>SIT_FIN_R</th>\n",
       "      <th>COD_MEN</th>\n",
       "    </tr>\n",
       "  </thead>\n",
       "  <tbody>\n",
       "    <tr>\n",
       "      <th>count</th>\n",
       "      <td>3164534</td>\n",
       "      <td>3164534</td>\n",
       "      <td>3164534</td>\n",
       "      <td>3164534</td>\n",
       "      <td>3164534</td>\n",
       "      <td>3164534</td>\n",
       "      <td>3164534</td>\n",
       "      <td>3164534</td>\n",
       "      <td>3164534</td>\n",
       "      <td>3164534</td>\n",
       "      <td>...</td>\n",
       "      <td>3164534</td>\n",
       "      <td>3164534</td>\n",
       "      <td>3164534</td>\n",
       "      <td>3164534</td>\n",
       "      <td>3164534</td>\n",
       "      <td>3164534</td>\n",
       "      <td>3164534</td>\n",
       "      <td>3164534</td>\n",
       "      <td>3164534</td>\n",
       "      <td>3164534</td>\n",
       "    </tr>\n",
       "    <tr>\n",
       "      <th>unique</th>\n",
       "      <td>1</td>\n",
       "      <td>1</td>\n",
       "      <td>1</td>\n",
       "      <td>1</td>\n",
       "      <td>1</td>\n",
       "      <td>1</td>\n",
       "      <td>1</td>\n",
       "      <td>1</td>\n",
       "      <td>1</td>\n",
       "      <td>1</td>\n",
       "      <td>...</td>\n",
       "      <td>1</td>\n",
       "      <td>1</td>\n",
       "      <td>1</td>\n",
       "      <td>1</td>\n",
       "      <td>1</td>\n",
       "      <td>1</td>\n",
       "      <td>1</td>\n",
       "      <td>1</td>\n",
       "      <td>1</td>\n",
       "      <td>1</td>\n",
       "    </tr>\n",
       "    <tr>\n",
       "      <th>top</th>\n",
       "      <td>False</td>\n",
       "      <td>False</td>\n",
       "      <td>False</td>\n",
       "      <td>False</td>\n",
       "      <td>False</td>\n",
       "      <td>False</td>\n",
       "      <td>False</td>\n",
       "      <td>False</td>\n",
       "      <td>False</td>\n",
       "      <td>False</td>\n",
       "      <td>...</td>\n",
       "      <td>False</td>\n",
       "      <td>False</td>\n",
       "      <td>False</td>\n",
       "      <td>False</td>\n",
       "      <td>False</td>\n",
       "      <td>False</td>\n",
       "      <td>False</td>\n",
       "      <td>False</td>\n",
       "      <td>False</td>\n",
       "      <td>False</td>\n",
       "    </tr>\n",
       "    <tr>\n",
       "      <th>freq</th>\n",
       "      <td>3164534</td>\n",
       "      <td>3164534</td>\n",
       "      <td>3164534</td>\n",
       "      <td>3164534</td>\n",
       "      <td>3164534</td>\n",
       "      <td>3164534</td>\n",
       "      <td>3164534</td>\n",
       "      <td>3164534</td>\n",
       "      <td>3164534</td>\n",
       "      <td>3164534</td>\n",
       "      <td>...</td>\n",
       "      <td>3164534</td>\n",
       "      <td>3164534</td>\n",
       "      <td>3164534</td>\n",
       "      <td>3164534</td>\n",
       "      <td>3164534</td>\n",
       "      <td>3164534</td>\n",
       "      <td>3164534</td>\n",
       "      <td>3164534</td>\n",
       "      <td>3164534</td>\n",
       "      <td>3164534</td>\n",
       "    </tr>\n",
       "  </tbody>\n",
       "</table>\n",
       "<p>4 rows × 37 columns</p>\n",
       "</div>"
      ],
      "text/plain": [
       "           AGNO      RBD  DGV_RBD  NOM_RBD COD_REG_RBD NOM_REG_RBD_A  \\\n",
       "count   3164534  3164534  3164534  3164534     3164534       3164534   \n",
       "unique        1        1        1        1           1             1   \n",
       "top       False    False    False    False       False         False   \n",
       "freq    3164534  3164534  3164534  3164534     3164534       3164534   \n",
       "\n",
       "       COD_PRO_RBD COD_COM_RBD NOM_COM_RBD COD_DEPROV_RBD  ... COD_COM_ALU  \\\n",
       "count      3164534     3164534     3164534        3164534  ...     3164534   \n",
       "unique           1           1           1              1  ...           1   \n",
       "top          False       False       False          False  ...       False   \n",
       "freq       3164534     3164534     3164534        3164534  ...     3164534   \n",
       "\n",
       "       NOM_COM_ALU COD_RAMA  COD_SEC COD_ESPE PROM_GRAL ASISTENCIA  SIT_FIN  \\\n",
       "count      3164534  3164534  3164534  3164534   3164534    3164534  3164534   \n",
       "unique           1        1        1        1         1          1        1   \n",
       "top          False    False    False    False     False      False    False   \n",
       "freq       3164534  3164534  3164534  3164534   3164534    3164534  3164534   \n",
       "\n",
       "       SIT_FIN_R  COD_MEN  \n",
       "count    3164534  3164534  \n",
       "unique         1        1  \n",
       "top        False    False  \n",
       "freq     3164534  3164534  \n",
       "\n",
       "[4 rows x 37 columns]"
      ]
     },
     "execution_count": 10,
     "metadata": {},
     "output_type": "execute_result"
    }
   ],
   "source": [
    "rendimiento.isna().describe()"
   ]
  },
  {
   "cell_type": "markdown",
   "id": "98a8060d",
   "metadata": {},
   "source": [
    "Aparentemente no existen datos faltantes, pero esto se debe a que los valores faltantes o incompletos están codificados de otro modo. Por ejemplo, la edad faltante se codifica con el valor 0."
   ]
  },
  {
   "cell_type": "code",
   "execution_count": 57,
   "id": "8d4529b5",
   "metadata": {},
   "outputs": [
    {
     "name": "stdout",
     "output_type": "stream",
     "text": [
      "Sin info. de situación final: 1197\n",
      "Sin género: 5\n",
      "Sin edad: 636\n",
      "Sin lugar: 2\n",
      "promedio 0: 115617\n"
     ]
    }
   ],
   "source": [
    "# situacion final (aprobado, reprobado)\n",
    "print(f\"Sin info. de situación final: {(rendimiento.SIT_FIN_R == 'SIN_INFO').sum()}\")\n",
    "\n",
    "# genero\n",
    "print(f\"Sin género: {(rendimiento.GEN_ALU == 'S/I').sum()}\")\n",
    "\n",
    "# edad\n",
    "print(f\"Sin edad: {(rendimiento.EDAD_ALU == 0).sum()}\")\n",
    "\n",
    "# lugar de residencia\n",
    "print(f\"Sin lugar: {((rendimiento.COD_REG_ALU == 0) | (rendimiento.COD_COM_ALU == 0)).sum()}\")\n",
    "\n",
    "# alumnos retirados (promedio 0)\n",
    "print(f\"promedio 0: {(rendimiento.PROM_GRAL == 0.0).sum()}\")"
   ]
  },
  {
   "cell_type": "markdown",
   "id": "6bc15dff",
   "metadata": {},
   "source": [
    "# Preguntas y problemas\n",
    "\n",
    "Al examinar el dataset se hace evidente que muchas variables no tienen el poder predictivo que se esperaba. Las diferencias más marcadas se dan en relación a la ubicación geográfica y el código de dependencia. Creemos que esto se debe a que los sistemas de evaluación utilizados por los colegios no están estandarizados mucho más allá de la escala de notas y los contenidos a pasar. Hay una multiplicidad de variables que afectan la forma en que los colegios evalúan a sus alumnos, por lo que las notas son poco comparables entre alumnos de colegios distintos. En consecuencia, es evidente que es necesario añadir datos que sean comparables entre colegios, o bien, derivar tales variables a partir de los atributos ya existentes. Por ejemplo, se puede considerar la distribución de notas de los colegios y tomar en cuenta la posición del alumno en relación a sus compañeros. \n",
    "\n",
    "Es necesario, entonces, buscar relaciones más complejas entre las variables. Al comparar promedios una variable a la vez se hace difícil observar tendencias. Por tanto, nos interesa utilizar algoritmos de clustering para determinar si existen combinaciones de variables que generen grupos de alumnos con rendimiento escolar similar. En general, del análisis de datos como los resultados de la PSU se observa que en Chile existe esta segregación, y nos interesa determinar si es posible identificarlos con los datos disponibles en este dataset."
   ]
  },
  {
   "cell_type": "markdown",
   "id": "8bf0f6ba",
   "metadata": {},
   "source": [
    "# Propuesta experimental\n",
    "\n",
    "Esto es parte del hito 2. Proponer y justificar los experimentos para el hito 3."
   ]
  },
  {
   "cell_type": "markdown",
   "id": "420a3b5d",
   "metadata": {},
   "source": [
    "## Implementación\n",
    "\n",
    "Implementar al menos uno de los experimentos propuestos."
   ]
  }
 ],
 "metadata": {
  "celltoolbar": "Raw Cell Format",
  "kernelspec": {
   "display_name": "Python 3 (ipykernel)",
   "language": "python",
   "name": "python3"
  },
  "language_info": {
   "codemirror_mode": {
    "name": "ipython",
    "version": 3
   },
   "file_extension": ".py",
   "mimetype": "text/x-python",
   "name": "python",
   "nbconvert_exporter": "python",
   "pygments_lexer": "ipython3",
   "version": "3.9.7"
  }
 },
 "nbformat": 4,
 "nbformat_minor": 5
}
