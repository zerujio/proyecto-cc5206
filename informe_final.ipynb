{
 "cells": [
  {
   "cell_type": "markdown",
   "id": "a1bf6111",
   "metadata": {
    "id": "a1bf6111"
   },
   "source": [
    "# Introducción\n",
    "\n",
    "El siguiente informa abarca estudios en torno a la educación primaria y secundaria en Chile, y tiene como principal objetivo caracterizar la relación entre el promedio general y distintas variables, como la condición de ruralidad, región geográfica, género, tipo de dependencia. Estas variables están presentes en el mismo dataset otorgado por el MINEDUC, que contiene gran información acerda de tres millones de estudiantes. Como es bien sabido, Chile es un país muy desigual y sumamente segregado en varios ámbitos. El objetivo de este proyecto es buscar patrones en los datos que puedan reflejar estas desigualdades.\n",
    "\n",
    "El informe contiene análisis y síntesis de distintas observaciones en torno a los estudios y visualizaciones del comportamiento de estas variables."
   ]
  },
  {
   "cell_type": "markdown",
   "id": "1e42963d",
   "metadata": {
    "id": "1e42963d"
   },
   "source": [
    "# Exploración\n"
   ]
  },
  {
   "cell_type": "code",
   "execution_count": 1,
   "id": "zEEGTWw4Bw1Q",
   "metadata": {
    "colab": {
     "base_uri": "https://localhost:8080/"
    },
    "id": "zEEGTWw4Bw1Q",
    "outputId": "cc507cb7-4eac-4f78-d1e5-1396587f6b29",
    "scrolled": true
   },
   "outputs": [],
   "source": [
    "#rendimiento_path = \"http://datos.mineduc.cl/datasets/195065-rendimiento-escolar-ano-2020.download/\"\n",
    "rendimiento_path = \"datos/mineduc/rendimiento_escolar/rendimiento2020.zip\"\n",
    "\n",
    "#puntajes_path = \"http://datos.mineduc.cl/datasets/196340-prueba-de-transicion-universitaria-2021-inscritos-puntajes.download/\"\n",
    "puntajes_path = \"datos/mineduc/PDT/puntajes2021.zip\""
   ]
  },
  {
   "cell_type": "code",
   "execution_count": 2,
   "id": "77de47ad",
   "metadata": {
    "id": "77de47ad"
   },
   "outputs": [],
   "source": [
    "import pandas as pd\n",
    "import numpy as np\n",
    "\n",
    "# este link a veces se muere\n",
    "rendimiento = pd.read_csv(rendimiento_path,\n",
    "                          sep=\";\", decimal=\",\", compression = \"zip\",\n",
    "                          dtype={\n",
    "                              \"NOM_RBD\":\"category\",\n",
    "                              \"NOM_REG_RBD_A\":\"category\",\n",
    "                              \"NOM_COM_RBD\":\"category\",\n",
    "                              \"NOM_DEPROV_RBD\":\"category\",\n",
    "                              \"LET_CUR\":\"category\",\n",
    "                              \"GEN_ALU\":\"category\",\n",
    "                              \"NOM_COM_ALU\":\"category\",\n",
    "                              \"SIT_FIN\":\"category\",\n",
    "                              \"SIT_FIN_R\":\"category\",\n",
    "                              \"RURAL_RBD\":\"category\",\n",
    "                              \"COD_DEPE\":\"category\",\n",
    "                              \"COD_DEPE2\":\"category\",\n",
    "                              \"ESTADO_ESTAB\":\"category\",\n",
    "                              \"COD_ENSE\":\"category\",\n",
    "                              \"COD_ENSE2\":\"category\"},\n",
    "                          converters={\"EDAD_ALU\": lambda s : int(s) if s != ' ' else 0})"
   ]
  },
  {
   "cell_type": "code",
   "execution_count": 3,
   "id": "ae2aaa48",
   "metadata": {
    "id": "ae2aaa48"
   },
   "outputs": [],
   "source": [
    "# cambio de nombre para algunas categorias\n",
    "rendimiento.GEN_ALU.cat.categories = [\"HOMBRE\", \"MUJER\", \"S/I\"]\n",
    "\n",
    "rendimiento.RURAL_RBD.cat.categories = [\"URBANO\", \"RURAL\"]\n",
    "\n",
    "\n",
    "rendimiento.COD_DEPE = rendimiento.COD_DEPE.cat.rename_categories(\n",
    "    {\"1\":\"CORP_MUNICIPAL\", \"2\":\"MUNICIPAL_DAEM\", \"3\":\"PARTICULAR_SUBVEN\",\n",
    "     \"4\":\"PARTICULAR_PAGADO\", \"5\":\"CORP_ADMIN_DELEGD\", \"6\":\"SERVI_LOCAL_EDUCA\"})\n",
    "rendimiento.COD_DEPE2 = rendimiento.COD_DEPE2.cat.rename_categories(\n",
    "    {\"1\":\"Municipal\", \"2\":\"Particular subvencionado\", \"3\":\"Particular pagado\", \n",
    "     \"4\":\"Corp. admin. delegada\", \"5\":\"Serv. local educación\"}\n",
    ")\n",
    "\n",
    "rendimiento.ESTADO_ESTAB = rendimiento.ESTADO_ESTAB.cat.rename_categories(\n",
    "    {\"1\":\"FUNCIONANDO\",\"2\":\"RECESO\", \"3\":\"CERRADO\"}\n",
    ")\n",
    "\n",
    "rendimiento.SIT_FIN = rendimiento.SIT_FIN.cat.rename_categories(\n",
    "    {\" \":\"SIN_INFO\", \"P\":\"PROMOVIDO\", \"R\":\"REPROBADO\", \"Y\":\"RETIRADO\"}\n",
    ")\n",
    "\n",
    "rendimiento.SIT_FIN_R = rendimiento.SIT_FIN_R.cat.rename_categories (\n",
    "    {\" \":\"SIN_INFO\", \"P\":\"PROMOVIDO\", \"R\":\"REPROBADO\", \"Y\":\"RETIRADO\", \"T\":\"TRASLADADO\"}\n",
    ")\n",
    "\n",
    "rendimiento.COD_ENSE2 = rendimiento.COD_ENSE2.cat.rename_categories(\n",
    "    {\"2\":\"Básica Niños\", \"3\":\"Básica Adultos\", \n",
    "     \"5\":\"Media HC Jóvenes\", \"6\":\"Media HC Adultos\",\n",
    "     \"7\":\"Media TP Jóvenes\", \"8\":\"Media TP Adultos\"}\n",
    ")\n",
    "pass"
   ]
  },
  {
   "cell_type": "code",
   "execution_count": 4,
   "id": "8c39e9b1",
   "metadata": {
    "colab": {
     "base_uri": "https://localhost:8080/"
    },
    "id": "8c39e9b1",
    "outputId": "3d0e75f3-5f4c-41c7-e2d6-d9e1ee3b5b22"
   },
   "outputs": [
    {
     "name": "stdout",
     "output_type": "stream",
     "text": [
      "<class 'pandas.core.frame.DataFrame'>\n",
      "RangeIndex: 3164534 entries, 0 to 3164533\n",
      "Data columns (total 37 columns):\n",
      " #   Column          Dtype   \n",
      "---  ------          -----   \n",
      " 0   AGNO            int64   \n",
      " 1   RBD             int64   \n",
      " 2   DGV_RBD         int64   \n",
      " 3   NOM_RBD         category\n",
      " 4   COD_REG_RBD     int64   \n",
      " 5   NOM_REG_RBD_A   category\n",
      " 6   COD_PRO_RBD     int64   \n",
      " 7   COD_COM_RBD     int64   \n",
      " 8   NOM_COM_RBD     category\n",
      " 9   COD_DEPROV_RBD  int64   \n",
      " 10  NOM_DEPROV_RBD  category\n",
      " 11  COD_DEPE        category\n",
      " 12  COD_DEPE2       category\n",
      " 13  RURAL_RBD       category\n",
      " 14  ESTADO_ESTAB    category\n",
      " 15  COD_ENSE        category\n",
      " 16  COD_ENSE2       category\n",
      " 17  COD_GRADO       int64   \n",
      " 18  LET_CUR         category\n",
      " 19  COD_JOR         int64   \n",
      " 20  COD_TIP_CUR     int64   \n",
      " 21  COD_DES_CUR     int64   \n",
      " 22  MRUN            int64   \n",
      " 23  GEN_ALU         category\n",
      " 24  FEC_NAC_ALU     int64   \n",
      " 25  EDAD_ALU        int64   \n",
      " 26  COD_REG_ALU     int64   \n",
      " 27  COD_COM_ALU     int64   \n",
      " 28  NOM_COM_ALU     category\n",
      " 29  COD_RAMA        int64   \n",
      " 30  COD_SEC         int64   \n",
      " 31  COD_ESPE        int64   \n",
      " 32  PROM_GRAL       float64 \n",
      " 33  ASISTENCIA      int64   \n",
      " 34  SIT_FIN         category\n",
      " 35  SIT_FIN_R       category\n",
      " 36  COD_MEN         int64   \n",
      "dtypes: category(15), float64(1), int64(21)\n",
      "memory usage: 585.8 MB\n"
     ]
    }
   ],
   "source": [
    "rendimiento.info()"
   ]
  },
  {
   "cell_type": "markdown",
   "id": "b88efcbd",
   "metadata": {
    "id": "b88efcbd"
   },
   "source": [
    "El dataset abarca más de 3 millones de alumnos.\n",
    "\n",
    "Si bien hay muchas columnas, los datos que estas proveen pueden ser agrupados en menos categorías:\n",
    "\n",
    "- Identificación del alumno: edad, género, y lugar de residencia\n",
    "- Rendimiento del alumno: curso, promedio general y porcentaje de asistencia\n",
    "- Identificación del colegio: identificador único (RBD), ubicación, administración (municipal, particular subvencionado, etc.).\n",
    "- Tipo de enseñanza: técnico-profesional, científico-humanista, para adultos, etc."
   ]
  },
  {
   "cell_type": "markdown",
   "id": "a98e7a9f",
   "metadata": {
    "id": "a98e7a9f"
   },
   "source": [
    "## Cobertura"
   ]
  },
  {
   "cell_type": "code",
   "execution_count": 5,
   "id": "f3ee81d6",
   "metadata": {
    "colab": {
     "base_uri": "https://localhost:8080/"
    },
    "id": "f3ee81d6",
    "outputId": "84f7a814-521e-4bd1-a723-e1f99e39b23a"
   },
   "outputs": [
    {
     "name": "stdout",
     "output_type": "stream",
     "text": [
      "Hay 56 provincias, 345 comunas y 9040 establecimientos distintos.\n"
     ]
    }
   ],
   "source": [
    "print(f\"Hay {len(rendimiento.COD_PRO_RBD.unique())} provincias, \"\n",
    "    + f\"{len(rendimiento.COD_COM_RBD.unique())} comunas\"\n",
    "    + f\" y {len(rendimiento.RBD.unique())} establecimientos distintos.\")"
   ]
  },
  {
   "cell_type": "markdown",
   "id": "78e1febb",
   "metadata": {
    "id": "78e1febb"
   },
   "source": [
    "Chile tiene 56 provincias y 346 comunas, es decir, hay una sola comuna para la cual no hay ningún establecimiento en los datos. Todo el resto del territorio debiese estar representado.\n",
    "\n",
    "De una [fuente externa](https://www.bcn.cl/siit/estadisticasterritoriales//resultados-consulta?id=82491) se obtiene que en Chile existen 11342 establecimientos educacionales, de los cuales 9040 están presentes en los datos. No está claro por qué estos establecimientos están ausentes, pero es probable que sean aquellos con menor cantidad de estudiantes. En general, el dataset parece ser bastante completo."
   ]
  },
  {
   "cell_type": "markdown",
   "id": "b423f98d",
   "metadata": {
    "id": "b423f98d"
   },
   "source": [
    "## Datos faltantes o incompletos"
   ]
  },
  {
   "cell_type": "code",
   "execution_count": 6,
   "id": "67f4ecd3",
   "metadata": {
    "colab": {
     "base_uri": "https://localhost:8080/",
     "height": 239
    },
    "id": "67f4ecd3",
    "outputId": "0dc35ebe-8f13-4357-e0b5-70f1710039e6"
   },
   "outputs": [
    {
     "data": {
      "text/html": [
       "<div>\n",
       "<style scoped>\n",
       "    .dataframe tbody tr th:only-of-type {\n",
       "        vertical-align: middle;\n",
       "    }\n",
       "\n",
       "    .dataframe tbody tr th {\n",
       "        vertical-align: top;\n",
       "    }\n",
       "\n",
       "    .dataframe thead th {\n",
       "        text-align: right;\n",
       "    }\n",
       "</style>\n",
       "<table border=\"1\" class=\"dataframe\">\n",
       "  <thead>\n",
       "    <tr style=\"text-align: right;\">\n",
       "      <th></th>\n",
       "      <th>AGNO</th>\n",
       "      <th>RBD</th>\n",
       "      <th>DGV_RBD</th>\n",
       "      <th>NOM_RBD</th>\n",
       "      <th>COD_REG_RBD</th>\n",
       "      <th>NOM_REG_RBD_A</th>\n",
       "      <th>COD_PRO_RBD</th>\n",
       "      <th>COD_COM_RBD</th>\n",
       "      <th>NOM_COM_RBD</th>\n",
       "      <th>COD_DEPROV_RBD</th>\n",
       "      <th>...</th>\n",
       "      <th>COD_COM_ALU</th>\n",
       "      <th>NOM_COM_ALU</th>\n",
       "      <th>COD_RAMA</th>\n",
       "      <th>COD_SEC</th>\n",
       "      <th>COD_ESPE</th>\n",
       "      <th>PROM_GRAL</th>\n",
       "      <th>ASISTENCIA</th>\n",
       "      <th>SIT_FIN</th>\n",
       "      <th>SIT_FIN_R</th>\n",
       "      <th>COD_MEN</th>\n",
       "    </tr>\n",
       "  </thead>\n",
       "  <tbody>\n",
       "    <tr>\n",
       "      <th>count</th>\n",
       "      <td>3164534</td>\n",
       "      <td>3164534</td>\n",
       "      <td>3164534</td>\n",
       "      <td>3164534</td>\n",
       "      <td>3164534</td>\n",
       "      <td>3164534</td>\n",
       "      <td>3164534</td>\n",
       "      <td>3164534</td>\n",
       "      <td>3164534</td>\n",
       "      <td>3164534</td>\n",
       "      <td>...</td>\n",
       "      <td>3164534</td>\n",
       "      <td>3164534</td>\n",
       "      <td>3164534</td>\n",
       "      <td>3164534</td>\n",
       "      <td>3164534</td>\n",
       "      <td>3164534</td>\n",
       "      <td>3164534</td>\n",
       "      <td>3164534</td>\n",
       "      <td>3164534</td>\n",
       "      <td>3164534</td>\n",
       "    </tr>\n",
       "    <tr>\n",
       "      <th>unique</th>\n",
       "      <td>1</td>\n",
       "      <td>1</td>\n",
       "      <td>1</td>\n",
       "      <td>1</td>\n",
       "      <td>1</td>\n",
       "      <td>1</td>\n",
       "      <td>1</td>\n",
       "      <td>1</td>\n",
       "      <td>1</td>\n",
       "      <td>1</td>\n",
       "      <td>...</td>\n",
       "      <td>1</td>\n",
       "      <td>1</td>\n",
       "      <td>1</td>\n",
       "      <td>1</td>\n",
       "      <td>1</td>\n",
       "      <td>1</td>\n",
       "      <td>1</td>\n",
       "      <td>1</td>\n",
       "      <td>1</td>\n",
       "      <td>1</td>\n",
       "    </tr>\n",
       "    <tr>\n",
       "      <th>top</th>\n",
       "      <td>False</td>\n",
       "      <td>False</td>\n",
       "      <td>False</td>\n",
       "      <td>False</td>\n",
       "      <td>False</td>\n",
       "      <td>False</td>\n",
       "      <td>False</td>\n",
       "      <td>False</td>\n",
       "      <td>False</td>\n",
       "      <td>False</td>\n",
       "      <td>...</td>\n",
       "      <td>False</td>\n",
       "      <td>False</td>\n",
       "      <td>False</td>\n",
       "      <td>False</td>\n",
       "      <td>False</td>\n",
       "      <td>False</td>\n",
       "      <td>False</td>\n",
       "      <td>False</td>\n",
       "      <td>False</td>\n",
       "      <td>False</td>\n",
       "    </tr>\n",
       "    <tr>\n",
       "      <th>freq</th>\n",
       "      <td>3164534</td>\n",
       "      <td>3164534</td>\n",
       "      <td>3164534</td>\n",
       "      <td>3164534</td>\n",
       "      <td>3164534</td>\n",
       "      <td>3164534</td>\n",
       "      <td>3164534</td>\n",
       "      <td>3164534</td>\n",
       "      <td>3164534</td>\n",
       "      <td>3164534</td>\n",
       "      <td>...</td>\n",
       "      <td>3164534</td>\n",
       "      <td>3164534</td>\n",
       "      <td>3164534</td>\n",
       "      <td>3164534</td>\n",
       "      <td>3164534</td>\n",
       "      <td>3164534</td>\n",
       "      <td>3164534</td>\n",
       "      <td>3164534</td>\n",
       "      <td>3164534</td>\n",
       "      <td>3164534</td>\n",
       "    </tr>\n",
       "  </tbody>\n",
       "</table>\n",
       "<p>4 rows × 37 columns</p>\n",
       "</div>"
      ],
      "text/plain": [
       "           AGNO      RBD  DGV_RBD  NOM_RBD COD_REG_RBD NOM_REG_RBD_A  \\\n",
       "count   3164534  3164534  3164534  3164534     3164534       3164534   \n",
       "unique        1        1        1        1           1             1   \n",
       "top       False    False    False    False       False         False   \n",
       "freq    3164534  3164534  3164534  3164534     3164534       3164534   \n",
       "\n",
       "       COD_PRO_RBD COD_COM_RBD NOM_COM_RBD COD_DEPROV_RBD  ... COD_COM_ALU  \\\n",
       "count      3164534     3164534     3164534        3164534  ...     3164534   \n",
       "unique           1           1           1              1  ...           1   \n",
       "top          False       False       False          False  ...       False   \n",
       "freq       3164534     3164534     3164534        3164534  ...     3164534   \n",
       "\n",
       "       NOM_COM_ALU COD_RAMA  COD_SEC COD_ESPE PROM_GRAL ASISTENCIA  SIT_FIN  \\\n",
       "count      3164534  3164534  3164534  3164534   3164534    3164534  3164534   \n",
       "unique           1        1        1        1         1          1        1   \n",
       "top          False    False    False    False     False      False    False   \n",
       "freq       3164534  3164534  3164534  3164534   3164534    3164534  3164534   \n",
       "\n",
       "       SIT_FIN_R  COD_MEN  \n",
       "count    3164534  3164534  \n",
       "unique         1        1  \n",
       "top        False    False  \n",
       "freq     3164534  3164534  \n",
       "\n",
       "[4 rows x 37 columns]"
      ]
     },
     "execution_count": 6,
     "metadata": {},
     "output_type": "execute_result"
    }
   ],
   "source": [
    "rendimiento.isna().describe()"
   ]
  },
  {
   "cell_type": "markdown",
   "id": "98a8060d",
   "metadata": {
    "id": "98a8060d"
   },
   "source": [
    "Aparentemente no existen datos faltantes, pero esto se debe a que los valores faltantes o incompletos están codificados de otro modo. Por ejemplo, la edad faltante se codifica con el valor 0."
   ]
  },
  {
   "cell_type": "code",
   "execution_count": 7,
   "id": "8d4529b5",
   "metadata": {
    "colab": {
     "base_uri": "https://localhost:8080/"
    },
    "id": "8d4529b5",
    "outputId": "203aa171-7789-4c88-d24b-fc855027f006"
   },
   "outputs": [
    {
     "name": "stdout",
     "output_type": "stream",
     "text": [
      "Sin info. de situación final: 1197\n",
      "Sin género: 5\n",
      "Sin edad: 636\n",
      "Sin lugar: 2\n",
      "Sin promedio: 115617\n"
     ]
    }
   ],
   "source": [
    "# situacion final (aprobado, reprobado)\n",
    "print(f\"Sin info. de situación final: {(rendimiento.SIT_FIN_R == 'SIN_INFO').sum()}\")\n",
    "\n",
    "# genero\n",
    "print(f\"Sin género: {(rendimiento.GEN_ALU == 'S/I').sum()}\")\n",
    "\n",
    "# edad\n",
    "print(f\"Sin edad: {(rendimiento.EDAD_ALU == 0).sum()}\")\n",
    "\n",
    "# lugar de residencia\n",
    "print(f\"Sin lugar: {((rendimiento.COD_REG_ALU == 0) | (rendimiento.COD_COM_ALU == 0)).sum()}\")\n",
    "\n",
    "# alumnos retirados (promedio 0)\n",
    "print(f\"Sin promedio: {(rendimiento.PROM_GRAL == 0.0).sum()}\")"
   ]
  },
  {
   "cell_type": "markdown",
   "id": "113682f3",
   "metadata": {
    "id": "113682f3"
   },
   "source": [
    "En general hay pocos datos faltantes. La categoría más importante son los alumnos cuyo promedio fue ingresado como `0,0`. Todos estos datos pueden ser retirados del dataset."
   ]
  },
  {
   "cell_type": "code",
   "execution_count": 8,
   "id": "fb17de96",
   "metadata": {
    "id": "fb17de96"
   },
   "outputs": [],
   "source": [
    "rendimiento.drop(rendimiento[rendimiento.SIT_FIN_R == \"SIN_INFO\"].index, inplace = True)\n",
    "rendimiento.drop(rendimiento[rendimiento.GEN_ALU == \"S/I\"].index, inplace = True)\n",
    "rendimiento.drop(rendimiento[rendimiento.EDAD_ALU == 0].index, inplace = True)\n",
    "rendimiento.drop(rendimiento[(rendimiento.COD_REG_ALU == 0) | (rendimiento.COD_COM_ALU == 0)].index, inplace = True)\n",
    "rendimiento.drop(rendimiento[rendimiento.PROM_GRAL == 0.0].index, inplace = True)"
   ]
  },
  {
   "cell_type": "markdown",
   "id": "98912ab7",
   "metadata": {
    "id": "98912ab7"
   },
   "source": [
    "## Distribución\n",
    "\n",
    "### Región"
   ]
  },
  {
   "cell_type": "code",
   "execution_count": 9,
   "id": "e8862d7e",
   "metadata": {
    "colab": {
     "base_uri": "https://localhost:8080/",
     "height": 318
    },
    "id": "e8862d7e",
    "outputId": "ea37f4a5-f318-4b44-e8ad-d8afd4f7a299",
    "scrolled": true
   },
   "outputs": [
    {
     "data": {
      "text/plain": [
       "<AxesSubplot:>"
      ]
     },
     "execution_count": 9,
     "metadata": {},
     "output_type": "execute_result"
    },
    {
     "data": {
      "image/png": "[encoded data removed]",
      "text/plain": [
       "<Figure size 432x288 with 1 Axes>"
      ]
     },
     "metadata": {
      "needs_background": "light"
     },
     "output_type": "display_data"
    }
   ],
   "source": [
    "rendimiento[\"NOM_REG_RBD_A\"].value_counts().plot(kind=\"bar\")"
   ]
  },
  {
   "cell_type": "markdown",
   "id": "6c0096a8",
   "metadata": {
    "id": "6c0096a8"
   },
   "source": [
    "Los alumnos se concentran en la región metropolitana. Las regiones de Valparaíso y Bio Bio son las que mayor cantidad de alumnos tienen sin contar la metropolitana, mientras que Aysen y Magallanes tienen la menor cantidad.\n",
    "\n",
    "### Ruralidad"
   ]
  },
  {
   "cell_type": "code",
   "execution_count": 10,
   "id": "9a23be0f",
   "metadata": {
    "colab": {
     "base_uri": "https://localhost:8080/",
     "height": 265
    },
    "id": "9a23be0f",
    "outputId": "db94a954-293f-4d56-c10a-1826f3c250ec",
    "scrolled": true
   },
   "outputs": [
    {
     "data": {
      "text/plain": [
       "<AxesSubplot:ylabel='RURAL_RBD'>"
      ]
     },
     "execution_count": 10,
     "metadata": {},
     "output_type": "execute_result"
    },
    {
     "data": {
      "image/png": "[encoded data removed]",
      "text/plain": [
       "<Figure size 432x288 with 1 Axes>"
      ]
     },
     "metadata": {},
     "output_type": "display_data"
    }
   ],
   "source": [
    "rendimiento.RURAL_RBD.value_counts().plot(kind=\"pie\")"
   ]
  },
  {
   "cell_type": "markdown",
   "id": "02999ada",
   "metadata": {
    "id": "02999ada"
   },
   "source": [
    "Así mismo,la mayoría (92%) de los estudiantes se encuentran en zonas urbanas."
   ]
  },
  {
   "cell_type": "markdown",
   "id": "c53061b9",
   "metadata": {
    "id": "c53061b9"
   },
   "source": [
    "### Tipo de establecimiento"
   ]
  },
  {
   "cell_type": "code",
   "execution_count": 11,
   "id": "f4a085b7",
   "metadata": {
    "colab": {
     "base_uri": "https://localhost:8080/",
     "height": 265
    },
    "id": "f4a085b7",
    "outputId": "92e6dc20-a10e-4de7-e6dd-6ea839e29a7c"
   },
   "outputs": [
    {
     "data": {
      "text/plain": [
       "<AxesSubplot:ylabel='COD_DEPE'>"
      ]
     },
     "execution_count": 11,
     "metadata": {},
     "output_type": "execute_result"
    },
    {
     "data": {
      "image/png": "[encoded data removed]",
      "text/plain": [
       "<Figure size 432x288 with 1 Axes>"
      ]
     },
     "metadata": {},
     "output_type": "display_data"
    }
   ],
   "source": [
    "rendimiento.COD_DEPE.value_counts().plot(kind=\"pie\")"
   ]
  },
  {
   "cell_type": "markdown",
   "id": "8585be1e",
   "metadata": {
    "id": "8585be1e"
   },
   "source": [
    "Alrededor de la mitad de los estudiantes en Chile asiste a colegios particulares subvencionados. El servicio local de educación corresponde a un 3%, mientras que la corporación administración delegada corresponde al 1% del tipo de establecimientos del país."
   ]
  },
  {
   "cell_type": "code",
   "execution_count": 12,
   "id": "13ea1cb6",
   "metadata": {
    "colab": {
     "base_uri": "https://localhost:8080/",
     "height": 265
    },
    "id": "13ea1cb6",
    "outputId": "9301a2b3-3a34-42b0-ff7f-202ababcb610",
    "scrolled": true
   },
   "outputs": [
    {
     "data": {
      "text/plain": [
       "<AxesSubplot:ylabel='COD_DEPE2'>"
      ]
     },
     "execution_count": 12,
     "metadata": {},
     "output_type": "execute_result"
    },
    {
     "data": {
      "image/png": "[encoded data removed]",
      "text/plain": [
       "<Figure size 432x288 with 1 Axes>"
      ]
     },
     "metadata": {},
     "output_type": "display_data"
    }
   ],
   "source": [
    "rendimiento.COD_DEPE2.value_counts().plot(kind=\"pie\")"
   ]
  },
  {
   "cell_type": "markdown",
   "id": "079eb2b6",
   "metadata": {
    "id": "079eb2b6"
   },
   "source": [
    "## Promedios\n",
    "### Ruralidad"
   ]
  },
  {
   "cell_type": "code",
   "execution_count": 13,
   "id": "6d9c5976",
   "metadata": {
    "colab": {
     "base_uri": "https://localhost:8080/",
     "height": 143
    },
    "id": "6d9c5976",
    "outputId": "74cdbe25-4f90-46b2-8e12-0a6d249a8144"
   },
   "outputs": [
    {
     "data": {
      "text/html": [
       "<div>\n",
       "<style scoped>\n",
       "    .dataframe tbody tr th:only-of-type {\n",
       "        vertical-align: middle;\n",
       "    }\n",
       "\n",
       "    .dataframe tbody tr th {\n",
       "        vertical-align: top;\n",
       "    }\n",
       "\n",
       "    .dataframe thead th {\n",
       "        text-align: right;\n",
       "    }\n",
       "</style>\n",
       "<table border=\"1\" class=\"dataframe\">\n",
       "  <thead>\n",
       "    <tr style=\"text-align: right;\">\n",
       "      <th></th>\n",
       "      <th>count</th>\n",
       "      <th>mean</th>\n",
       "      <th>std</th>\n",
       "      <th>min</th>\n",
       "      <th>25%</th>\n",
       "      <th>50%</th>\n",
       "      <th>75%</th>\n",
       "      <th>max</th>\n",
       "    </tr>\n",
       "    <tr>\n",
       "      <th>RURAL_RBD</th>\n",
       "      <th></th>\n",
       "      <th></th>\n",
       "      <th></th>\n",
       "      <th></th>\n",
       "      <th></th>\n",
       "      <th></th>\n",
       "      <th></th>\n",
       "      <th></th>\n",
       "    </tr>\n",
       "  </thead>\n",
       "  <tbody>\n",
       "    <tr>\n",
       "      <th>URBANO</th>\n",
       "      <td>2814218.0</td>\n",
       "      <td>6.000115</td>\n",
       "      <td>0.896840</td>\n",
       "      <td>1.0</td>\n",
       "      <td>5.5</td>\n",
       "      <td>6.2</td>\n",
       "      <td>6.7</td>\n",
       "      <td>7.0</td>\n",
       "    </tr>\n",
       "    <tr>\n",
       "      <th>RURAL</th>\n",
       "      <td>234122.0</td>\n",
       "      <td>5.945313</td>\n",
       "      <td>0.846167</td>\n",
       "      <td>1.0</td>\n",
       "      <td>5.4</td>\n",
       "      <td>6.1</td>\n",
       "      <td>6.6</td>\n",
       "      <td>7.0</td>\n",
       "    </tr>\n",
       "  </tbody>\n",
       "</table>\n",
       "</div>"
      ],
      "text/plain": [
       "               count      mean       std  min  25%  50%  75%  max\n",
       "RURAL_RBD                                                        \n",
       "URBANO     2814218.0  6.000115  0.896840  1.0  5.5  6.2  6.7  7.0\n",
       "RURAL       234122.0  5.945313  0.846167  1.0  5.4  6.1  6.6  7.0"
      ]
     },
     "execution_count": 13,
     "metadata": {},
     "output_type": "execute_result"
    }
   ],
   "source": [
    "rendimiento.groupby(\"RURAL_RBD\").PROM_GRAL.describe()"
   ]
  },
  {
   "cell_type": "markdown",
   "id": "3e1a453f",
   "metadata": {
    "id": "3e1a453f"
   },
   "source": [
    "No se observan diferencias de promedio significativas entre estudiantes rurales y urbanos."
   ]
  },
  {
   "cell_type": "markdown",
   "id": "2dfbab71",
   "metadata": {
    "id": "2dfbab71"
   },
   "source": [
    "### Dependencia"
   ]
  },
  {
   "cell_type": "code",
   "execution_count": 14,
   "id": "83be54e8",
   "metadata": {
    "colab": {
     "base_uri": "https://localhost:8080/",
     "height": 371
    },
    "id": "83be54e8",
    "outputId": "94df6896-ce68-4e50-e474-5f48dd27ad49",
    "scrolled": true
   },
   "outputs": [
    {
     "data": {
      "text/html": [
       "<div>\n",
       "<style scoped>\n",
       "    .dataframe tbody tr th:only-of-type {\n",
       "        vertical-align: middle;\n",
       "    }\n",
       "\n",
       "    .dataframe tbody tr th {\n",
       "        vertical-align: top;\n",
       "    }\n",
       "\n",
       "    .dataframe thead th {\n",
       "        text-align: right;\n",
       "    }\n",
       "</style>\n",
       "<table border=\"1\" class=\"dataframe\">\n",
       "  <thead>\n",
       "    <tr style=\"text-align: right;\">\n",
       "      <th></th>\n",
       "      <th>count</th>\n",
       "      <th>mean</th>\n",
       "      <th>std</th>\n",
       "      <th>min</th>\n",
       "      <th>25%</th>\n",
       "      <th>50%</th>\n",
       "      <th>75%</th>\n",
       "      <th>max</th>\n",
       "    </tr>\n",
       "    <tr>\n",
       "      <th>COD_DEPE2</th>\n",
       "      <th></th>\n",
       "      <th></th>\n",
       "      <th></th>\n",
       "      <th></th>\n",
       "      <th></th>\n",
       "      <th></th>\n",
       "      <th></th>\n",
       "      <th></th>\n",
       "    </tr>\n",
       "  </thead>\n",
       "  <tbody>\n",
       "    <tr>\n",
       "      <th>Particular subvencionado</th>\n",
       "      <td>1593539.0</td>\n",
       "      <td>6.033265</td>\n",
       "      <td>0.875713</td>\n",
       "      <td>1.0</td>\n",
       "      <td>5.6</td>\n",
       "      <td>6.2</td>\n",
       "      <td>6.7</td>\n",
       "      <td>7.0</td>\n",
       "    </tr>\n",
       "    <tr>\n",
       "      <th>Serv. local educación</th>\n",
       "      <td>93145.0</td>\n",
       "      <td>5.795030</td>\n",
       "      <td>0.963001</td>\n",
       "      <td>1.0</td>\n",
       "      <td>5.2</td>\n",
       "      <td>6.0</td>\n",
       "      <td>6.6</td>\n",
       "      <td>7.0</td>\n",
       "    </tr>\n",
       "    <tr>\n",
       "      <th>Municipal</th>\n",
       "      <td>1039401.0</td>\n",
       "      <td>5.844379</td>\n",
       "      <td>0.931466</td>\n",
       "      <td>1.0</td>\n",
       "      <td>5.3</td>\n",
       "      <td>6.0</td>\n",
       "      <td>6.6</td>\n",
       "      <td>7.0</td>\n",
       "    </tr>\n",
       "    <tr>\n",
       "      <th>Particular pagado</th>\n",
       "      <td>277847.0</td>\n",
       "      <td>6.494710</td>\n",
       "      <td>0.508951</td>\n",
       "      <td>1.0</td>\n",
       "      <td>6.3</td>\n",
       "      <td>6.6</td>\n",
       "      <td>6.9</td>\n",
       "      <td>7.0</td>\n",
       "    </tr>\n",
       "    <tr>\n",
       "      <th>Corp. admin. delegada</th>\n",
       "      <td>44408.0</td>\n",
       "      <td>5.502405</td>\n",
       "      <td>0.946931</td>\n",
       "      <td>1.0</td>\n",
       "      <td>5.0</td>\n",
       "      <td>5.6</td>\n",
       "      <td>6.2</td>\n",
       "      <td>7.0</td>\n",
       "    </tr>\n",
       "  </tbody>\n",
       "</table>\n",
       "</div>"
      ],
      "text/plain": [
       "                              count      mean       std  min  25%  50%  75%  \\\n",
       "COD_DEPE2                                                                     \n",
       "Particular subvencionado  1593539.0  6.033265  0.875713  1.0  5.6  6.2  6.7   \n",
       "Serv. local educación       93145.0  5.795030  0.963001  1.0  5.2  6.0  6.6   \n",
       "Municipal                 1039401.0  5.844379  0.931466  1.0  5.3  6.0  6.6   \n",
       "Particular pagado          277847.0  6.494710  0.508951  1.0  6.3  6.6  6.9   \n",
       "Corp. admin. delegada       44408.0  5.502405  0.946931  1.0  5.0  5.6  6.2   \n",
       "\n",
       "                          max  \n",
       "COD_DEPE2                      \n",
       "Particular subvencionado  7.0  \n",
       "Serv. local educación     7.0  \n",
       "Municipal                 7.0  \n",
       "Particular pagado         7.0  \n",
       "Corp. admin. delegada     7.0  "
      ]
     },
     "execution_count": 14,
     "metadata": {},
     "output_type": "execute_result"
    }
   ],
   "source": [
    "rendimiento.groupby(\"COD_DEPE2\").PROM_GRAL.describe()"
   ]
  },
  {
   "cell_type": "markdown",
   "id": "4d24de68",
   "metadata": {
    "id": "4d24de68"
   },
   "source": [
    "### Género"
   ]
  },
  {
   "cell_type": "code",
   "execution_count": 15,
   "id": "ba8ef5dd",
   "metadata": {
    "colab": {
     "base_uri": "https://localhost:8080/",
     "height": 239
    },
    "id": "ba8ef5dd",
    "outputId": "f423c131-0cc3-4c7a-afcb-c2762016406d",
    "scrolled": true
   },
   "outputs": [
    {
     "data": {
      "text/html": [
       "<div>\n",
       "<style scoped>\n",
       "    .dataframe tbody tr th:only-of-type {\n",
       "        vertical-align: middle;\n",
       "    }\n",
       "\n",
       "    .dataframe tbody tr th {\n",
       "        vertical-align: top;\n",
       "    }\n",
       "\n",
       "    .dataframe thead th {\n",
       "        text-align: right;\n",
       "    }\n",
       "</style>\n",
       "<table border=\"1\" class=\"dataframe\">\n",
       "  <thead>\n",
       "    <tr style=\"text-align: right;\">\n",
       "      <th></th>\n",
       "      <th>count</th>\n",
       "      <th>mean</th>\n",
       "      <th>std</th>\n",
       "      <th>min</th>\n",
       "      <th>25%</th>\n",
       "      <th>50%</th>\n",
       "      <th>75%</th>\n",
       "      <th>max</th>\n",
       "    </tr>\n",
       "    <tr>\n",
       "      <th>GEN_ALU</th>\n",
       "      <th></th>\n",
       "      <th></th>\n",
       "      <th></th>\n",
       "      <th></th>\n",
       "      <th></th>\n",
       "      <th></th>\n",
       "      <th></th>\n",
       "      <th></th>\n",
       "    </tr>\n",
       "  </thead>\n",
       "  <tbody>\n",
       "    <tr>\n",
       "      <th>HOMBRE</th>\n",
       "      <td>1561238.0</td>\n",
       "      <td>5.927001</td>\n",
       "      <td>0.925737</td>\n",
       "      <td>1.0</td>\n",
       "      <td>5.4</td>\n",
       "      <td>6.1</td>\n",
       "      <td>6.6</td>\n",
       "      <td>7.0</td>\n",
       "    </tr>\n",
       "    <tr>\n",
       "      <th>MUJER</th>\n",
       "      <td>1487102.0</td>\n",
       "      <td>6.068247</td>\n",
       "      <td>0.851671</td>\n",
       "      <td>1.0</td>\n",
       "      <td>5.6</td>\n",
       "      <td>6.3</td>\n",
       "      <td>6.7</td>\n",
       "      <td>7.0</td>\n",
       "    </tr>\n",
       "    <tr>\n",
       "      <th>S/I</th>\n",
       "      <td>0.0</td>\n",
       "      <td>NaN</td>\n",
       "      <td>NaN</td>\n",
       "      <td>NaN</td>\n",
       "      <td>NaN</td>\n",
       "      <td>NaN</td>\n",
       "      <td>NaN</td>\n",
       "      <td>NaN</td>\n",
       "    </tr>\n",
       "  </tbody>\n",
       "</table>\n",
       "</div>"
      ],
      "text/plain": [
       "             count      mean       std  min  25%  50%  75%  max\n",
       "GEN_ALU                                                        \n",
       "HOMBRE   1561238.0  5.927001  0.925737  1.0  5.4  6.1  6.6  7.0\n",
       "MUJER    1487102.0  6.068247  0.851671  1.0  5.6  6.3  6.7  7.0\n",
       "S/I            0.0       NaN       NaN  NaN  NaN  NaN  NaN  NaN"
      ]
     },
     "execution_count": 15,
     "metadata": {},
     "output_type": "execute_result"
    }
   ],
   "source": [
    "rendimiento.groupby(\"GEN_ALU\").PROM_GRAL.describe()"
   ]
  },
  {
   "cell_type": "markdown",
   "id": "656f5f17",
   "metadata": {
    "id": "656f5f17"
   },
   "source": [
    "### Región"
   ]
  },
  {
   "cell_type": "code",
   "execution_count": 16,
   "id": "786c9da9",
   "metadata": {
    "colab": {
     "base_uri": "https://localhost:8080/",
     "height": 647
    },
    "id": "786c9da9",
    "outputId": "627806f0-8c9e-4aa0-8755-8e215bcfbf5e"
   },
   "outputs": [
    {
     "data": {
      "text/html": [
       "<div>\n",
       "<style scoped>\n",
       "    .dataframe tbody tr th:only-of-type {\n",
       "        vertical-align: middle;\n",
       "    }\n",
       "\n",
       "    .dataframe tbody tr th {\n",
       "        vertical-align: top;\n",
       "    }\n",
       "\n",
       "    .dataframe thead th {\n",
       "        text-align: right;\n",
       "    }\n",
       "</style>\n",
       "<table border=\"1\" class=\"dataframe\">\n",
       "  <thead>\n",
       "    <tr style=\"text-align: right;\">\n",
       "      <th></th>\n",
       "      <th>count</th>\n",
       "      <th>mean</th>\n",
       "      <th>std</th>\n",
       "      <th>min</th>\n",
       "      <th>25%</th>\n",
       "      <th>50%</th>\n",
       "      <th>75%</th>\n",
       "      <th>max</th>\n",
       "    </tr>\n",
       "    <tr>\n",
       "      <th>NOM_REG_RBD_A</th>\n",
       "      <th></th>\n",
       "      <th></th>\n",
       "      <th></th>\n",
       "      <th></th>\n",
       "      <th></th>\n",
       "      <th></th>\n",
       "      <th></th>\n",
       "      <th></th>\n",
       "    </tr>\n",
       "  </thead>\n",
       "  <tbody>\n",
       "    <tr>\n",
       "      <th>AYP</th>\n",
       "      <td>44742.0</td>\n",
       "      <td>6.039770</td>\n",
       "      <td>0.880625</td>\n",
       "      <td>1.0</td>\n",
       "      <td>5.6</td>\n",
       "      <td>6.3</td>\n",
       "      <td>6.7</td>\n",
       "      <td>7.0</td>\n",
       "    </tr>\n",
       "    <tr>\n",
       "      <th>TPCA</th>\n",
       "      <td>67970.0</td>\n",
       "      <td>5.991477</td>\n",
       "      <td>0.891894</td>\n",
       "      <td>1.0</td>\n",
       "      <td>5.5</td>\n",
       "      <td>6.2</td>\n",
       "      <td>6.7</td>\n",
       "      <td>7.0</td>\n",
       "    </tr>\n",
       "    <tr>\n",
       "      <th>ANTOF</th>\n",
       "      <td>113031.0</td>\n",
       "      <td>5.961813</td>\n",
       "      <td>0.883237</td>\n",
       "      <td>1.0</td>\n",
       "      <td>5.4</td>\n",
       "      <td>6.2</td>\n",
       "      <td>6.7</td>\n",
       "      <td>7.0</td>\n",
       "    </tr>\n",
       "    <tr>\n",
       "      <th>ATCMA</th>\n",
       "      <td>56233.0</td>\n",
       "      <td>6.015763</td>\n",
       "      <td>0.850892</td>\n",
       "      <td>1.0</td>\n",
       "      <td>5.6</td>\n",
       "      <td>6.2</td>\n",
       "      <td>6.7</td>\n",
       "      <td>7.0</td>\n",
       "    </tr>\n",
       "    <tr>\n",
       "      <th>COQ</th>\n",
       "      <td>145082.0</td>\n",
       "      <td>5.983524</td>\n",
       "      <td>0.891424</td>\n",
       "      <td>1.0</td>\n",
       "      <td>5.5</td>\n",
       "      <td>6.2</td>\n",
       "      <td>6.7</td>\n",
       "      <td>7.0</td>\n",
       "    </tr>\n",
       "    <tr>\n",
       "      <th>VALPO</th>\n",
       "      <td>307095.0</td>\n",
       "      <td>6.000204</td>\n",
       "      <td>0.933599</td>\n",
       "      <td>1.0</td>\n",
       "      <td>5.5</td>\n",
       "      <td>6.2</td>\n",
       "      <td>6.7</td>\n",
       "      <td>7.0</td>\n",
       "    </tr>\n",
       "    <tr>\n",
       "      <th>LGBO</th>\n",
       "      <td>164308.0</td>\n",
       "      <td>5.933132</td>\n",
       "      <td>0.933789</td>\n",
       "      <td>1.0</td>\n",
       "      <td>5.4</td>\n",
       "      <td>6.1</td>\n",
       "      <td>6.7</td>\n",
       "      <td>7.0</td>\n",
       "    </tr>\n",
       "    <tr>\n",
       "      <th>MAULE</th>\n",
       "      <td>185731.0</td>\n",
       "      <td>6.004445</td>\n",
       "      <td>0.932554</td>\n",
       "      <td>1.0</td>\n",
       "      <td>5.5</td>\n",
       "      <td>6.2</td>\n",
       "      <td>6.7</td>\n",
       "      <td>7.0</td>\n",
       "    </tr>\n",
       "    <tr>\n",
       "      <th>NUBLE</th>\n",
       "      <td>81068.0</td>\n",
       "      <td>6.109844</td>\n",
       "      <td>0.794929</td>\n",
       "      <td>1.0</td>\n",
       "      <td>5.6</td>\n",
       "      <td>6.3</td>\n",
       "      <td>6.7</td>\n",
       "      <td>7.0</td>\n",
       "    </tr>\n",
       "    <tr>\n",
       "      <th>BBIO</th>\n",
       "      <td>267049.0</td>\n",
       "      <td>6.117891</td>\n",
       "      <td>0.798401</td>\n",
       "      <td>1.0</td>\n",
       "      <td>5.7</td>\n",
       "      <td>6.3</td>\n",
       "      <td>6.7</td>\n",
       "      <td>7.0</td>\n",
       "    </tr>\n",
       "    <tr>\n",
       "      <th>ARAUC</th>\n",
       "      <td>177909.0</td>\n",
       "      <td>5.974977</td>\n",
       "      <td>0.881959</td>\n",
       "      <td>1.0</td>\n",
       "      <td>5.5</td>\n",
       "      <td>6.2</td>\n",
       "      <td>6.6</td>\n",
       "      <td>7.0</td>\n",
       "    </tr>\n",
       "    <tr>\n",
       "      <th>RIOS</th>\n",
       "      <td>68975.0</td>\n",
       "      <td>5.952081</td>\n",
       "      <td>0.901275</td>\n",
       "      <td>1.0</td>\n",
       "      <td>5.5</td>\n",
       "      <td>6.1</td>\n",
       "      <td>6.6</td>\n",
       "      <td>7.0</td>\n",
       "    </tr>\n",
       "    <tr>\n",
       "      <th>LAGOS</th>\n",
       "      <td>156317.0</td>\n",
       "      <td>5.945506</td>\n",
       "      <td>0.954335</td>\n",
       "      <td>1.0</td>\n",
       "      <td>5.5</td>\n",
       "      <td>6.2</td>\n",
       "      <td>6.7</td>\n",
       "      <td>7.0</td>\n",
       "    </tr>\n",
       "    <tr>\n",
       "      <th>AYSEN</th>\n",
       "      <td>20241.0</td>\n",
       "      <td>6.155244</td>\n",
       "      <td>0.936666</td>\n",
       "      <td>1.0</td>\n",
       "      <td>5.8</td>\n",
       "      <td>6.4</td>\n",
       "      <td>6.8</td>\n",
       "      <td>7.0</td>\n",
       "    </tr>\n",
       "    <tr>\n",
       "      <th>MAG</th>\n",
       "      <td>27251.0</td>\n",
       "      <td>6.204848</td>\n",
       "      <td>0.798580</td>\n",
       "      <td>1.0</td>\n",
       "      <td>5.8</td>\n",
       "      <td>6.4</td>\n",
       "      <td>6.8</td>\n",
       "      <td>7.0</td>\n",
       "    </tr>\n",
       "    <tr>\n",
       "      <th>RM</th>\n",
       "      <td>1165338.0</td>\n",
       "      <td>5.973745</td>\n",
       "      <td>0.890554</td>\n",
       "      <td>1.0</td>\n",
       "      <td>5.5</td>\n",
       "      <td>6.2</td>\n",
       "      <td>6.7</td>\n",
       "      <td>7.0</td>\n",
       "    </tr>\n",
       "  </tbody>\n",
       "</table>\n",
       "</div>"
      ],
      "text/plain": [
       "                   count      mean       std  min  25%  50%  75%  max\n",
       "NOM_REG_RBD_A                                                        \n",
       "AYP              44742.0  6.039770  0.880625  1.0  5.6  6.3  6.7  7.0\n",
       "TPCA             67970.0  5.991477  0.891894  1.0  5.5  6.2  6.7  7.0\n",
       "ANTOF           113031.0  5.961813  0.883237  1.0  5.4  6.2  6.7  7.0\n",
       "ATCMA            56233.0  6.015763  0.850892  1.0  5.6  6.2  6.7  7.0\n",
       "COQ             145082.0  5.983524  0.891424  1.0  5.5  6.2  6.7  7.0\n",
       "VALPO           307095.0  6.000204  0.933599  1.0  5.5  6.2  6.7  7.0\n",
       "LGBO            164308.0  5.933132  0.933789  1.0  5.4  6.1  6.7  7.0\n",
       "MAULE           185731.0  6.004445  0.932554  1.0  5.5  6.2  6.7  7.0\n",
       "NUBLE            81068.0  6.109844  0.794929  1.0  5.6  6.3  6.7  7.0\n",
       "BBIO            267049.0  6.117891  0.798401  1.0  5.7  6.3  6.7  7.0\n",
       "ARAUC           177909.0  5.974977  0.881959  1.0  5.5  6.2  6.6  7.0\n",
       "RIOS             68975.0  5.952081  0.901275  1.0  5.5  6.1  6.6  7.0\n",
       "LAGOS           156317.0  5.945506  0.954335  1.0  5.5  6.2  6.7  7.0\n",
       "AYSEN            20241.0  6.155244  0.936666  1.0  5.8  6.4  6.8  7.0\n",
       "MAG              27251.0  6.204848  0.798580  1.0  5.8  6.4  6.8  7.0\n",
       "RM             1165338.0  5.973745  0.890554  1.0  5.5  6.2  6.7  7.0"
      ]
     },
     "execution_count": 16,
     "metadata": {},
     "output_type": "execute_result"
    }
   ],
   "source": [
    "rendimiento.groupby(\"NOM_REG_RBD_A\").PROM_GRAL.describe()"
   ]
  },
  {
   "cell_type": "markdown",
   "id": "7a2c854a",
   "metadata": {
    "id": "7a2c854a"
   },
   "source": [
    "### Nivel de enseñanza"
   ]
  },
  {
   "cell_type": "code",
   "execution_count": 17,
   "id": "66106cdc",
   "metadata": {
    "colab": {
     "base_uri": "https://localhost:8080/",
     "height": 437
    },
    "id": "66106cdc",
    "outputId": "e0790601-35ea-462a-8b25-deb0262a7060",
    "scrolled": true
   },
   "outputs": [
    {
     "data": {
      "text/html": [
       "<div>\n",
       "<style scoped>\n",
       "    .dataframe tbody tr th:only-of-type {\n",
       "        vertical-align: middle;\n",
       "    }\n",
       "\n",
       "    .dataframe tbody tr th {\n",
       "        vertical-align: top;\n",
       "    }\n",
       "\n",
       "    .dataframe thead th {\n",
       "        text-align: right;\n",
       "    }\n",
       "</style>\n",
       "<table border=\"1\" class=\"dataframe\">\n",
       "  <thead>\n",
       "    <tr style=\"text-align: right;\">\n",
       "      <th></th>\n",
       "      <th>count</th>\n",
       "      <th>mean</th>\n",
       "      <th>std</th>\n",
       "      <th>min</th>\n",
       "      <th>25%</th>\n",
       "      <th>50%</th>\n",
       "      <th>75%</th>\n",
       "      <th>max</th>\n",
       "    </tr>\n",
       "    <tr>\n",
       "      <th>COD_ENSE2</th>\n",
       "      <th></th>\n",
       "      <th></th>\n",
       "      <th></th>\n",
       "      <th></th>\n",
       "      <th></th>\n",
       "      <th></th>\n",
       "      <th></th>\n",
       "      <th></th>\n",
       "    </tr>\n",
       "  </thead>\n",
       "  <tbody>\n",
       "    <tr>\n",
       "      <th>Básica Niños</th>\n",
       "      <td>2021634.0</td>\n",
       "      <td>6.110023</td>\n",
       "      <td>0.800784</td>\n",
       "      <td>1.0</td>\n",
       "      <td>5.7</td>\n",
       "      <td>6.3</td>\n",
       "      <td>6.8</td>\n",
       "      <td>7.0</td>\n",
       "    </tr>\n",
       "    <tr>\n",
       "      <th>Básica Adultos</th>\n",
       "      <td>16935.0</td>\n",
       "      <td>4.861140</td>\n",
       "      <td>1.441165</td>\n",
       "      <td>1.0</td>\n",
       "      <td>4.0</td>\n",
       "      <td>5.1</td>\n",
       "      <td>6.0</td>\n",
       "      <td>7.0</td>\n",
       "    </tr>\n",
       "    <tr>\n",
       "      <th>Media HC Jóvenes</th>\n",
       "      <td>661768.0</td>\n",
       "      <td>5.983947</td>\n",
       "      <td>0.840859</td>\n",
       "      <td>1.0</td>\n",
       "      <td>5.5</td>\n",
       "      <td>6.2</td>\n",
       "      <td>6.6</td>\n",
       "      <td>7.0</td>\n",
       "    </tr>\n",
       "    <tr>\n",
       "      <th>Media HC Adultos</th>\n",
       "      <td>99891.0</td>\n",
       "      <td>5.002931</td>\n",
       "      <td>1.468828</td>\n",
       "      <td>1.0</td>\n",
       "      <td>4.4</td>\n",
       "      <td>5.4</td>\n",
       "      <td>6.1</td>\n",
       "      <td>7.0</td>\n",
       "    </tr>\n",
       "    <tr>\n",
       "      <th>Media TP Jóvenes</th>\n",
       "      <td>240176.0</td>\n",
       "      <td>5.593820</td>\n",
       "      <td>0.931167</td>\n",
       "      <td>1.0</td>\n",
       "      <td>5.1</td>\n",
       "      <td>5.7</td>\n",
       "      <td>6.3</td>\n",
       "      <td>7.0</td>\n",
       "    </tr>\n",
       "    <tr>\n",
       "      <th>Media TP Adultos</th>\n",
       "      <td>7936.0</td>\n",
       "      <td>5.011794</td>\n",
       "      <td>1.391807</td>\n",
       "      <td>1.0</td>\n",
       "      <td>4.4</td>\n",
       "      <td>5.3</td>\n",
       "      <td>6.0</td>\n",
       "      <td>7.0</td>\n",
       "    </tr>\n",
       "  </tbody>\n",
       "</table>\n",
       "</div>"
      ],
      "text/plain": [
       "                      count      mean       std  min  25%  50%  75%  max\n",
       "COD_ENSE2                                                               \n",
       "Básica Niños      2021634.0  6.110023  0.800784  1.0  5.7  6.3  6.8  7.0\n",
       "Básica Adultos      16935.0  4.861140  1.441165  1.0  4.0  5.1  6.0  7.0\n",
       "Media HC Jóvenes   661768.0  5.983947  0.840859  1.0  5.5  6.2  6.6  7.0\n",
       "Media HC Adultos    99891.0  5.002931  1.468828  1.0  4.4  5.4  6.1  7.0\n",
       "Media TP Jóvenes   240176.0  5.593820  0.931167  1.0  5.1  5.7  6.3  7.0\n",
       "Media TP Adultos     7936.0  5.011794  1.391807  1.0  4.4  5.3  6.0  7.0"
      ]
     },
     "execution_count": 17,
     "metadata": {},
     "output_type": "execute_result"
    }
   ],
   "source": [
    "rendimiento.groupby(\"COD_ENSE2\").PROM_GRAL.describe()"
   ]
  },
  {
   "cell_type": "markdown",
   "id": "8c46ffd2",
   "metadata": {
    "id": "8c46ffd2"
   },
   "source": [
    "### Resumen\n",
    "\n",
    "En general la distribución de las notas es bastante uniforme. Las notas en areas rurales son ligeramente inferiores a las areas urbanas. Por género, las mujeres tienen notas levemente superiores. Por región, sólo Magallanes parece tener una distribución notablemente diferente al resto, tendiendo a ser mejor. La edad de los alumnos también es similar por región, por lo que los promedios son comparables.\n",
    "\n",
    "Un criterio que arroja diferencias claras es el tipo de establecimiento, donde se observa una jerarquía con los colegios particulares pagados arriba, los sobvencionados en medio y los municipales abajo. El otro criterio es el nivel de enseñanza: los códigos 3, 6 y 8, que corresponden a educación para adultos, tienen una varianza mucho mayor y un promedio más bajo que la educación para jóvenes. Además, dentro de la educación para jóvenes se ve que la enseñanza técnico profesional tienen promedios más bajos que la humanistico científica.\n",
    "\n",
    "Puesto que los datos de adultos tienen tanta varianza, se puede repetir el análisis considerando únicamente a los jóvenes."
   ]
  },
  {
   "cell_type": "markdown",
   "id": "4032db84",
   "metadata": {
    "id": "4032db84"
   },
   "source": [
    "## Promedios (sólo niños y jóvenes)"
   ]
  },
  {
   "cell_type": "code",
   "execution_count": 18,
   "id": "f41a92b6",
   "metadata": {
    "id": "f41a92b6"
   },
   "outputs": [],
   "source": [
    "rend_jovenes = rendimiento.drop(\n",
    "    rendimiento[(rendimiento.COD_ENSE2 == \"Básica Adultos\") \n",
    "                | (rendimiento.COD_ENSE2 == \"Media HC Adultos\") \n",
    "                | (rendimiento.COD_ENSE2 == \"Media TP Adultos\")].index)"
   ]
  },
  {
   "cell_type": "markdown",
   "id": "ef6f546c",
   "metadata": {
    "id": "ef6f546c"
   },
   "source": [
    "### Ruralidad"
   ]
  },
  {
   "cell_type": "code",
   "execution_count": 19,
   "id": "629fda08",
   "metadata": {
    "colab": {
     "base_uri": "https://localhost:8080/",
     "height": 207
    },
    "id": "629fda08",
    "outputId": "d965ec5e-51a8-4fef-8928-aa60893c05b6"
   },
   "outputs": [
    {
     "data": {
      "text/html": [
       "<div>\n",
       "<style scoped>\n",
       "    .dataframe tbody tr th:only-of-type {\n",
       "        vertical-align: middle;\n",
       "    }\n",
       "\n",
       "    .dataframe tbody tr th {\n",
       "        vertical-align: top;\n",
       "    }\n",
       "\n",
       "    .dataframe thead th {\n",
       "        text-align: right;\n",
       "    }\n",
       "</style>\n",
       "<table border=\"1\" class=\"dataframe\">\n",
       "  <thead>\n",
       "    <tr style=\"text-align: right;\">\n",
       "      <th></th>\n",
       "      <th>count</th>\n",
       "      <th>mean</th>\n",
       "      <th>std</th>\n",
       "      <th>min</th>\n",
       "      <th>25%</th>\n",
       "      <th>50%</th>\n",
       "      <th>75%</th>\n",
       "      <th>max</th>\n",
       "    </tr>\n",
       "    <tr>\n",
       "      <th>RURAL_RBD</th>\n",
       "      <th></th>\n",
       "      <th></th>\n",
       "      <th></th>\n",
       "      <th></th>\n",
       "      <th></th>\n",
       "      <th></th>\n",
       "      <th></th>\n",
       "      <th></th>\n",
       "    </tr>\n",
       "  </thead>\n",
       "  <tbody>\n",
       "    <tr>\n",
       "      <th>URBANO</th>\n",
       "      <td>2695002.0</td>\n",
       "      <td>6.045238</td>\n",
       "      <td>0.834677</td>\n",
       "      <td>1.0</td>\n",
       "      <td>5.6</td>\n",
       "      <td>6.2</td>\n",
       "      <td>6.7</td>\n",
       "      <td>7.0</td>\n",
       "    </tr>\n",
       "    <tr>\n",
       "      <th>RURAL</th>\n",
       "      <td>228576.0</td>\n",
       "      <td>5.966449</td>\n",
       "      <td>0.819363</td>\n",
       "      <td>1.0</td>\n",
       "      <td>5.5</td>\n",
       "      <td>6.1</td>\n",
       "      <td>6.6</td>\n",
       "      <td>7.0</td>\n",
       "    </tr>\n",
       "  </tbody>\n",
       "</table>\n",
       "</div>"
      ],
      "text/plain": [
       "               count      mean       std  min  25%  50%  75%  max\n",
       "RURAL_RBD                                                        \n",
       "URBANO     2695002.0  6.045238  0.834677  1.0  5.6  6.2  6.7  7.0\n",
       "RURAL       228576.0  5.966449  0.819363  1.0  5.5  6.1  6.6  7.0"
      ]
     },
     "execution_count": 19,
     "metadata": {},
     "output_type": "execute_result"
    }
   ],
   "source": [
    "rend_jovenes.groupby(\"RURAL_RBD\").PROM_GRAL.describe()"
   ]
  },
  {
   "cell_type": "markdown",
   "id": "a7dd7da6",
   "metadata": {
    "id": "a7dd7da6"
   },
   "source": [
    "### Dependencia"
   ]
  },
  {
   "cell_type": "code",
   "execution_count": 20,
   "id": "368e5fae",
   "metadata": {
    "colab": {
     "base_uri": "https://localhost:8080/",
     "height": 371
    },
    "id": "368e5fae",
    "outputId": "d057d43a-6722-411c-e519-995bd290aab5"
   },
   "outputs": [
    {
     "data": {
      "text/html": [
       "<div>\n",
       "<style scoped>\n",
       "    .dataframe tbody tr th:only-of-type {\n",
       "        vertical-align: middle;\n",
       "    }\n",
       "\n",
       "    .dataframe tbody tr th {\n",
       "        vertical-align: top;\n",
       "    }\n",
       "\n",
       "    .dataframe thead th {\n",
       "        text-align: right;\n",
       "    }\n",
       "</style>\n",
       "<table border=\"1\" class=\"dataframe\">\n",
       "  <thead>\n",
       "    <tr style=\"text-align: right;\">\n",
       "      <th></th>\n",
       "      <th>count</th>\n",
       "      <th>mean</th>\n",
       "      <th>std</th>\n",
       "      <th>min</th>\n",
       "      <th>25%</th>\n",
       "      <th>50%</th>\n",
       "      <th>75%</th>\n",
       "      <th>max</th>\n",
       "    </tr>\n",
       "    <tr>\n",
       "      <th>COD_DEPE2</th>\n",
       "      <th></th>\n",
       "      <th></th>\n",
       "      <th></th>\n",
       "      <th></th>\n",
       "      <th></th>\n",
       "      <th></th>\n",
       "      <th></th>\n",
       "      <th></th>\n",
       "    </tr>\n",
       "  </thead>\n",
       "  <tbody>\n",
       "    <tr>\n",
       "      <th>Particular subvencionado</th>\n",
       "      <td>1524616.0</td>\n",
       "      <td>6.083128</td>\n",
       "      <td>0.799770</td>\n",
       "      <td>1.0</td>\n",
       "      <td>5.6</td>\n",
       "      <td>6.3</td>\n",
       "      <td>6.7</td>\n",
       "      <td>7.0</td>\n",
       "    </tr>\n",
       "    <tr>\n",
       "      <th>Serv. local educación</th>\n",
       "      <td>88123.0</td>\n",
       "      <td>5.851146</td>\n",
       "      <td>0.893505</td>\n",
       "      <td>1.0</td>\n",
       "      <td>5.3</td>\n",
       "      <td>6.0</td>\n",
       "      <td>6.6</td>\n",
       "      <td>7.0</td>\n",
       "    </tr>\n",
       "    <tr>\n",
       "      <th>Municipal</th>\n",
       "      <td>990505.0</td>\n",
       "      <td>5.883703</td>\n",
       "      <td>0.885410</td>\n",
       "      <td>1.0</td>\n",
       "      <td>5.3</td>\n",
       "      <td>6.0</td>\n",
       "      <td>6.6</td>\n",
       "      <td>7.0</td>\n",
       "    </tr>\n",
       "    <tr>\n",
       "      <th>Particular pagado</th>\n",
       "      <td>275992.0</td>\n",
       "      <td>6.499144</td>\n",
       "      <td>0.503322</td>\n",
       "      <td>1.0</td>\n",
       "      <td>6.3</td>\n",
       "      <td>6.6</td>\n",
       "      <td>6.9</td>\n",
       "      <td>7.0</td>\n",
       "    </tr>\n",
       "    <tr>\n",
       "      <th>Corp. admin. delegada</th>\n",
       "      <td>44342.0</td>\n",
       "      <td>5.505219</td>\n",
       "      <td>0.941752</td>\n",
       "      <td>1.0</td>\n",
       "      <td>5.0</td>\n",
       "      <td>5.6</td>\n",
       "      <td>6.2</td>\n",
       "      <td>7.0</td>\n",
       "    </tr>\n",
       "  </tbody>\n",
       "</table>\n",
       "</div>"
      ],
      "text/plain": [
       "                              count      mean       std  min  25%  50%  75%  \\\n",
       "COD_DEPE2                                                                     \n",
       "Particular subvencionado  1524616.0  6.083128  0.799770  1.0  5.6  6.3  6.7   \n",
       "Serv. local educación       88123.0  5.851146  0.893505  1.0  5.3  6.0  6.6   \n",
       "Municipal                  990505.0  5.883703  0.885410  1.0  5.3  6.0  6.6   \n",
       "Particular pagado          275992.0  6.499144  0.503322  1.0  6.3  6.6  6.9   \n",
       "Corp. admin. delegada       44342.0  5.505219  0.941752  1.0  5.0  5.6  6.2   \n",
       "\n",
       "                          max  \n",
       "COD_DEPE2                      \n",
       "Particular subvencionado  7.0  \n",
       "Serv. local educación     7.0  \n",
       "Municipal                 7.0  \n",
       "Particular pagado         7.0  \n",
       "Corp. admin. delegada     7.0  "
      ]
     },
     "execution_count": 20,
     "metadata": {},
     "output_type": "execute_result"
    }
   ],
   "source": [
    "rend_jovenes.groupby(\"COD_DEPE2\").PROM_GRAL.describe()"
   ]
  },
  {
   "cell_type": "markdown",
   "id": "87b651f2",
   "metadata": {
    "id": "87b651f2"
   },
   "source": [
    "### Género"
   ]
  },
  {
   "cell_type": "code",
   "execution_count": 21,
   "id": "1d8480c5",
   "metadata": {
    "colab": {
     "base_uri": "https://localhost:8080/",
     "height": 239
    },
    "id": "1d8480c5",
    "outputId": "257e312f-15da-43de-d98b-54a4bf9872c8",
    "scrolled": true
   },
   "outputs": [
    {
     "data": {
      "text/html": [
       "<div>\n",
       "<style scoped>\n",
       "    .dataframe tbody tr th:only-of-type {\n",
       "        vertical-align: middle;\n",
       "    }\n",
       "\n",
       "    .dataframe tbody tr th {\n",
       "        vertical-align: top;\n",
       "    }\n",
       "\n",
       "    .dataframe thead th {\n",
       "        text-align: right;\n",
       "    }\n",
       "</style>\n",
       "<table border=\"1\" class=\"dataframe\">\n",
       "  <thead>\n",
       "    <tr style=\"text-align: right;\">\n",
       "      <th></th>\n",
       "      <th>count</th>\n",
       "      <th>mean</th>\n",
       "      <th>std</th>\n",
       "      <th>min</th>\n",
       "      <th>25%</th>\n",
       "      <th>50%</th>\n",
       "      <th>75%</th>\n",
       "      <th>max</th>\n",
       "    </tr>\n",
       "    <tr>\n",
       "      <th>GEN_ALU</th>\n",
       "      <th></th>\n",
       "      <th></th>\n",
       "      <th></th>\n",
       "      <th></th>\n",
       "      <th></th>\n",
       "      <th></th>\n",
       "      <th></th>\n",
       "      <th></th>\n",
       "    </tr>\n",
       "  </thead>\n",
       "  <tbody>\n",
       "    <tr>\n",
       "      <th>HOMBRE</th>\n",
       "      <td>1492881.0</td>\n",
       "      <td>5.977815</td>\n",
       "      <td>0.860580</td>\n",
       "      <td>1.0</td>\n",
       "      <td>5.5</td>\n",
       "      <td>6.2</td>\n",
       "      <td>6.7</td>\n",
       "      <td>7.0</td>\n",
       "    </tr>\n",
       "    <tr>\n",
       "      <th>MUJER</th>\n",
       "      <td>1430697.0</td>\n",
       "      <td>6.103004</td>\n",
       "      <td>0.799831</td>\n",
       "      <td>1.0</td>\n",
       "      <td>5.7</td>\n",
       "      <td>6.3</td>\n",
       "      <td>6.7</td>\n",
       "      <td>7.0</td>\n",
       "    </tr>\n",
       "    <tr>\n",
       "      <th>S/I</th>\n",
       "      <td>0.0</td>\n",
       "      <td>NaN</td>\n",
       "      <td>NaN</td>\n",
       "      <td>NaN</td>\n",
       "      <td>NaN</td>\n",
       "      <td>NaN</td>\n",
       "      <td>NaN</td>\n",
       "      <td>NaN</td>\n",
       "    </tr>\n",
       "  </tbody>\n",
       "</table>\n",
       "</div>"
      ],
      "text/plain": [
       "             count      mean       std  min  25%  50%  75%  max\n",
       "GEN_ALU                                                        \n",
       "HOMBRE   1492881.0  5.977815  0.860580  1.0  5.5  6.2  6.7  7.0\n",
       "MUJER    1430697.0  6.103004  0.799831  1.0  5.7  6.3  6.7  7.0\n",
       "S/I            0.0       NaN       NaN  NaN  NaN  NaN  NaN  NaN"
      ]
     },
     "execution_count": 21,
     "metadata": {},
     "output_type": "execute_result"
    }
   ],
   "source": [
    "rend_jovenes.groupby(\"GEN_ALU\").PROM_GRAL.describe()"
   ]
  },
  {
   "cell_type": "markdown",
   "id": "2a2e75bd",
   "metadata": {
    "id": "2a2e75bd"
   },
   "source": [
    "### Región"
   ]
  },
  {
   "cell_type": "code",
   "execution_count": 22,
   "id": "6d9659b4",
   "metadata": {
    "colab": {
     "base_uri": "https://localhost:8080/",
     "height": 647
    },
    "id": "6d9659b4",
    "outputId": "3e0a3e80-3385-4a91-f1b4-28afda6b0a44",
    "scrolled": true
   },
   "outputs": [
    {
     "data": {
      "text/html": [
       "<div>\n",
       "<style scoped>\n",
       "    .dataframe tbody tr th:only-of-type {\n",
       "        vertical-align: middle;\n",
       "    }\n",
       "\n",
       "    .dataframe tbody tr th {\n",
       "        vertical-align: top;\n",
       "    }\n",
       "\n",
       "    .dataframe thead th {\n",
       "        text-align: right;\n",
       "    }\n",
       "</style>\n",
       "<table border=\"1\" class=\"dataframe\">\n",
       "  <thead>\n",
       "    <tr style=\"text-align: right;\">\n",
       "      <th></th>\n",
       "      <th>count</th>\n",
       "      <th>mean</th>\n",
       "      <th>std</th>\n",
       "      <th>min</th>\n",
       "      <th>25%</th>\n",
       "      <th>50%</th>\n",
       "      <th>75%</th>\n",
       "      <th>max</th>\n",
       "    </tr>\n",
       "    <tr>\n",
       "      <th>NOM_REG_RBD_A</th>\n",
       "      <th></th>\n",
       "      <th></th>\n",
       "      <th></th>\n",
       "      <th></th>\n",
       "      <th></th>\n",
       "      <th></th>\n",
       "      <th></th>\n",
       "      <th></th>\n",
       "    </tr>\n",
       "  </thead>\n",
       "  <tbody>\n",
       "    <tr>\n",
       "      <th>AYP</th>\n",
       "      <td>42486.0</td>\n",
       "      <td>6.097889</td>\n",
       "      <td>0.804721</td>\n",
       "      <td>1.0</td>\n",
       "      <td>5.6</td>\n",
       "      <td>6.3</td>\n",
       "      <td>6.7</td>\n",
       "      <td>7.0</td>\n",
       "    </tr>\n",
       "    <tr>\n",
       "      <th>TPCA</th>\n",
       "      <td>64496.0</td>\n",
       "      <td>6.037412</td>\n",
       "      <td>0.840969</td>\n",
       "      <td>1.0</td>\n",
       "      <td>5.5</td>\n",
       "      <td>6.2</td>\n",
       "      <td>6.7</td>\n",
       "      <td>7.0</td>\n",
       "    </tr>\n",
       "    <tr>\n",
       "      <th>ANTOF</th>\n",
       "      <td>109538.0</td>\n",
       "      <td>5.982981</td>\n",
       "      <td>0.861302</td>\n",
       "      <td>1.0</td>\n",
       "      <td>5.5</td>\n",
       "      <td>6.2</td>\n",
       "      <td>6.7</td>\n",
       "      <td>7.0</td>\n",
       "    </tr>\n",
       "    <tr>\n",
       "      <th>ATCMA</th>\n",
       "      <td>54640.0</td>\n",
       "      <td>6.042432</td>\n",
       "      <td>0.820283</td>\n",
       "      <td>1.0</td>\n",
       "      <td>5.6</td>\n",
       "      <td>6.2</td>\n",
       "      <td>6.7</td>\n",
       "      <td>7.0</td>\n",
       "    </tr>\n",
       "    <tr>\n",
       "      <th>COQ</th>\n",
       "      <td>137639.0</td>\n",
       "      <td>6.039041</td>\n",
       "      <td>0.805258</td>\n",
       "      <td>1.0</td>\n",
       "      <td>5.6</td>\n",
       "      <td>6.2</td>\n",
       "      <td>6.7</td>\n",
       "      <td>7.0</td>\n",
       "    </tr>\n",
       "    <tr>\n",
       "      <th>VALPO</th>\n",
       "      <td>290014.0</td>\n",
       "      <td>6.061988</td>\n",
       "      <td>0.842519</td>\n",
       "      <td>1.0</td>\n",
       "      <td>5.6</td>\n",
       "      <td>6.3</td>\n",
       "      <td>6.7</td>\n",
       "      <td>7.0</td>\n",
       "    </tr>\n",
       "    <tr>\n",
       "      <th>LGBO</th>\n",
       "      <td>157929.0</td>\n",
       "      <td>5.977555</td>\n",
       "      <td>0.876298</td>\n",
       "      <td>1.0</td>\n",
       "      <td>5.4</td>\n",
       "      <td>6.2</td>\n",
       "      <td>6.7</td>\n",
       "      <td>7.0</td>\n",
       "    </tr>\n",
       "    <tr>\n",
       "      <th>MAULE</th>\n",
       "      <td>179185.0</td>\n",
       "      <td>6.056323</td>\n",
       "      <td>0.854673</td>\n",
       "      <td>1.0</td>\n",
       "      <td>5.6</td>\n",
       "      <td>6.3</td>\n",
       "      <td>6.7</td>\n",
       "      <td>7.0</td>\n",
       "    </tr>\n",
       "    <tr>\n",
       "      <th>NUBLE</th>\n",
       "      <td>79149.0</td>\n",
       "      <td>6.132090</td>\n",
       "      <td>0.766390</td>\n",
       "      <td>1.0</td>\n",
       "      <td>5.7</td>\n",
       "      <td>6.3</td>\n",
       "      <td>6.8</td>\n",
       "      <td>7.0</td>\n",
       "    </tr>\n",
       "    <tr>\n",
       "      <th>BBIO</th>\n",
       "      <td>259246.0</td>\n",
       "      <td>6.147091</td>\n",
       "      <td>0.756273</td>\n",
       "      <td>1.0</td>\n",
       "      <td>5.7</td>\n",
       "      <td>6.3</td>\n",
       "      <td>6.7</td>\n",
       "      <td>7.0</td>\n",
       "    </tr>\n",
       "    <tr>\n",
       "      <th>ARAUC</th>\n",
       "      <td>170233.0</td>\n",
       "      <td>6.018808</td>\n",
       "      <td>0.811922</td>\n",
       "      <td>1.0</td>\n",
       "      <td>5.5</td>\n",
       "      <td>6.2</td>\n",
       "      <td>6.7</td>\n",
       "      <td>7.0</td>\n",
       "    </tr>\n",
       "    <tr>\n",
       "      <th>RIOS</th>\n",
       "      <td>65818.0</td>\n",
       "      <td>5.998596</td>\n",
       "      <td>0.834765</td>\n",
       "      <td>1.0</td>\n",
       "      <td>5.5</td>\n",
       "      <td>6.2</td>\n",
       "      <td>6.6</td>\n",
       "      <td>7.0</td>\n",
       "    </tr>\n",
       "    <tr>\n",
       "      <th>LAGOS</th>\n",
       "      <td>148599.0</td>\n",
       "      <td>5.991432</td>\n",
       "      <td>0.904993</td>\n",
       "      <td>1.0</td>\n",
       "      <td>5.5</td>\n",
       "      <td>6.2</td>\n",
       "      <td>6.7</td>\n",
       "      <td>7.0</td>\n",
       "    </tr>\n",
       "    <tr>\n",
       "      <th>AYSEN</th>\n",
       "      <td>18925.0</td>\n",
       "      <td>6.239725</td>\n",
       "      <td>0.785537</td>\n",
       "      <td>1.0</td>\n",
       "      <td>5.8</td>\n",
       "      <td>6.5</td>\n",
       "      <td>6.9</td>\n",
       "      <td>7.0</td>\n",
       "    </tr>\n",
       "    <tr>\n",
       "      <th>MAG</th>\n",
       "      <td>26164.0</td>\n",
       "      <td>6.257426</td>\n",
       "      <td>0.695573</td>\n",
       "      <td>1.0</td>\n",
       "      <td>5.9</td>\n",
       "      <td>6.4</td>\n",
       "      <td>6.8</td>\n",
       "      <td>7.0</td>\n",
       "    </tr>\n",
       "    <tr>\n",
       "      <th>RM</th>\n",
       "      <td>1119517.0</td>\n",
       "      <td>6.013960</td>\n",
       "      <td>0.838328</td>\n",
       "      <td>1.0</td>\n",
       "      <td>5.5</td>\n",
       "      <td>6.2</td>\n",
       "      <td>6.7</td>\n",
       "      <td>7.0</td>\n",
       "    </tr>\n",
       "  </tbody>\n",
       "</table>\n",
       "</div>"
      ],
      "text/plain": [
       "                   count      mean       std  min  25%  50%  75%  max\n",
       "NOM_REG_RBD_A                                                        \n",
       "AYP              42486.0  6.097889  0.804721  1.0  5.6  6.3  6.7  7.0\n",
       "TPCA             64496.0  6.037412  0.840969  1.0  5.5  6.2  6.7  7.0\n",
       "ANTOF           109538.0  5.982981  0.861302  1.0  5.5  6.2  6.7  7.0\n",
       "ATCMA            54640.0  6.042432  0.820283  1.0  5.6  6.2  6.7  7.0\n",
       "COQ             137639.0  6.039041  0.805258  1.0  5.6  6.2  6.7  7.0\n",
       "VALPO           290014.0  6.061988  0.842519  1.0  5.6  6.3  6.7  7.0\n",
       "LGBO            157929.0  5.977555  0.876298  1.0  5.4  6.2  6.7  7.0\n",
       "MAULE           179185.0  6.056323  0.854673  1.0  5.6  6.3  6.7  7.0\n",
       "NUBLE            79149.0  6.132090  0.766390  1.0  5.7  6.3  6.8  7.0\n",
       "BBIO            259246.0  6.147091  0.756273  1.0  5.7  6.3  6.7  7.0\n",
       "ARAUC           170233.0  6.018808  0.811922  1.0  5.5  6.2  6.7  7.0\n",
       "RIOS             65818.0  5.998596  0.834765  1.0  5.5  6.2  6.6  7.0\n",
       "LAGOS           148599.0  5.991432  0.904993  1.0  5.5  6.2  6.7  7.0\n",
       "AYSEN            18925.0  6.239725  0.785537  1.0  5.8  6.5  6.9  7.0\n",
       "MAG              26164.0  6.257426  0.695573  1.0  5.9  6.4  6.8  7.0\n",
       "RM             1119517.0  6.013960  0.838328  1.0  5.5  6.2  6.7  7.0"
      ]
     },
     "execution_count": 22,
     "metadata": {},
     "output_type": "execute_result"
    }
   ],
   "source": [
    "rend_jovenes.groupby(\"NOM_REG_RBD_A\").PROM_GRAL.describe()"
   ]
  },
  {
   "cell_type": "markdown",
   "id": "9921e691",
   "metadata": {
    "id": "9921e691"
   },
   "source": [
    "### Tipo de enseñanza"
   ]
  },
  {
   "cell_type": "code",
   "execution_count": 23,
   "id": "d3f4da00",
   "metadata": {
    "colab": {
     "base_uri": "https://localhost:8080/",
     "height": 500
    },
    "id": "d3f4da00",
    "outputId": "fcddb905-010d-4bb7-803f-8edc6c181f57",
    "scrolled": true
   },
   "outputs": [
    {
     "data": {
      "text/html": [
       "<div>\n",
       "<style scoped>\n",
       "    .dataframe tbody tr th:only-of-type {\n",
       "        vertical-align: middle;\n",
       "    }\n",
       "\n",
       "    .dataframe tbody tr th {\n",
       "        vertical-align: top;\n",
       "    }\n",
       "\n",
       "    .dataframe thead th {\n",
       "        text-align: right;\n",
       "    }\n",
       "</style>\n",
       "<table border=\"1\" class=\"dataframe\">\n",
       "  <thead>\n",
       "    <tr style=\"text-align: right;\">\n",
       "      <th></th>\n",
       "      <th>count</th>\n",
       "      <th>mean</th>\n",
       "      <th>std</th>\n",
       "      <th>min</th>\n",
       "      <th>25%</th>\n",
       "      <th>50%</th>\n",
       "      <th>75%</th>\n",
       "      <th>max</th>\n",
       "    </tr>\n",
       "    <tr>\n",
       "      <th>COD_ENSE</th>\n",
       "      <th></th>\n",
       "      <th></th>\n",
       "      <th></th>\n",
       "      <th></th>\n",
       "      <th></th>\n",
       "      <th></th>\n",
       "      <th></th>\n",
       "      <th></th>\n",
       "    </tr>\n",
       "  </thead>\n",
       "  <tbody>\n",
       "    <tr>\n",
       "      <th>Básica</th>\n",
       "      <td>2021634.0</td>\n",
       "      <td>6.110023</td>\n",
       "      <td>0.800784</td>\n",
       "      <td>1.0</td>\n",
       "      <td>5.7</td>\n",
       "      <td>6.3</td>\n",
       "      <td>6.8</td>\n",
       "      <td>7.0</td>\n",
       "    </tr>\n",
       "    <tr>\n",
       "      <th>Media HC</th>\n",
       "      <td>661768.0</td>\n",
       "      <td>5.983947</td>\n",
       "      <td>0.840859</td>\n",
       "      <td>1.0</td>\n",
       "      <td>5.5</td>\n",
       "      <td>6.2</td>\n",
       "      <td>6.6</td>\n",
       "      <td>7.0</td>\n",
       "    </tr>\n",
       "    <tr>\n",
       "      <th>Media TP Comercial</th>\n",
       "      <td>68856.0</td>\n",
       "      <td>5.624037</td>\n",
       "      <td>0.942173</td>\n",
       "      <td>1.0</td>\n",
       "      <td>5.1</td>\n",
       "      <td>5.8</td>\n",
       "      <td>6.3</td>\n",
       "      <td>7.0</td>\n",
       "    </tr>\n",
       "    <tr>\n",
       "      <th>Media TP Industrial</th>\n",
       "      <td>97001.0</td>\n",
       "      <td>5.535835</td>\n",
       "      <td>0.922091</td>\n",
       "      <td>1.0</td>\n",
       "      <td>5.0</td>\n",
       "      <td>5.6</td>\n",
       "      <td>6.2</td>\n",
       "      <td>7.0</td>\n",
       "    </tr>\n",
       "    <tr>\n",
       "      <th>Media TP Técnica</th>\n",
       "      <td>54061.0</td>\n",
       "      <td>5.676208</td>\n",
       "      <td>0.922826</td>\n",
       "      <td>1.0</td>\n",
       "      <td>5.2</td>\n",
       "      <td>5.8</td>\n",
       "      <td>6.3</td>\n",
       "      <td>7.0</td>\n",
       "    </tr>\n",
       "    <tr>\n",
       "      <th>Media TP Agrícola</th>\n",
       "      <td>16075.0</td>\n",
       "      <td>5.553667</td>\n",
       "      <td>0.933443</td>\n",
       "      <td>1.0</td>\n",
       "      <td>5.1</td>\n",
       "      <td>5.7</td>\n",
       "      <td>6.2</td>\n",
       "      <td>7.0</td>\n",
       "    </tr>\n",
       "    <tr>\n",
       "      <th>Media TP Marítima</th>\n",
       "      <td>3710.0</td>\n",
       "      <td>5.517466</td>\n",
       "      <td>0.982150</td>\n",
       "      <td>1.0</td>\n",
       "      <td>5.0</td>\n",
       "      <td>5.7</td>\n",
       "      <td>6.2</td>\n",
       "      <td>7.0</td>\n",
       "    </tr>\n",
       "    <tr>\n",
       "      <th>Media Artística</th>\n",
       "      <td>473.0</td>\n",
       "      <td>5.633404</td>\n",
       "      <td>0.693511</td>\n",
       "      <td>3.0</td>\n",
       "      <td>5.3</td>\n",
       "      <td>5.7</td>\n",
       "      <td>6.1</td>\n",
       "      <td>7.0</td>\n",
       "    </tr>\n",
       "  </tbody>\n",
       "</table>\n",
       "</div>"
      ],
      "text/plain": [
       "                         count      mean       std  min  25%  50%  75%  max\n",
       "COD_ENSE                                                                   \n",
       "Básica               2021634.0  6.110023  0.800784  1.0  5.7  6.3  6.8  7.0\n",
       "Media HC              661768.0  5.983947  0.840859  1.0  5.5  6.2  6.6  7.0\n",
       "Media TP Comercial     68856.0  5.624037  0.942173  1.0  5.1  5.8  6.3  7.0\n",
       "Media TP Industrial    97001.0  5.535835  0.922091  1.0  5.0  5.6  6.2  7.0\n",
       "Media TP Técnica       54061.0  5.676208  0.922826  1.0  5.2  5.8  6.3  7.0\n",
       "Media TP Agrícola      16075.0  5.553667  0.933443  1.0  5.1  5.7  6.2  7.0\n",
       "Media TP Marítima       3710.0  5.517466  0.982150  1.0  5.0  5.7  6.2  7.0\n",
       "Media Artística          473.0  5.633404  0.693511  3.0  5.3  5.7  6.1  7.0"
      ]
     },
     "execution_count": 23,
     "metadata": {},
     "output_type": "execute_result"
    }
   ],
   "source": [
    "rend_jovenes.COD_ENSE = rend_jovenes.COD_ENSE.cat.rename_categories(\n",
    "    {\"110\":\"Básica\",\n",
    "     \"310\":\"Media HC\",\n",
    "     \"410\":\"Media TP Comercial\",\n",
    "     \"510\":\"Media TP Industrial\",\n",
    "     \"610\":\"Media TP Técnica\",\n",
    "     \"710\":\"Media TP Agrícola\",\n",
    "     \"810\":\"Media TP Marítima\",\n",
    "     \"910\":\"Media Artística\"}\n",
    ")\n",
    "rend_jovenes.COD_ENSE = rend_jovenes.COD_ENSE.cat.remove_unused_categories()\n",
    "\n",
    "rend_jovenes.groupby(\"COD_ENSE\").PROM_GRAL.describe()"
   ]
  },
  {
   "cell_type": "markdown",
   "id": "01833aaa",
   "metadata": {
    "id": "01833aaa"
   },
   "source": [
    "### Curso\n",
    "#### Básica"
   ]
  },
  {
   "cell_type": "code",
   "execution_count": 24,
   "id": "92559462",
   "metadata": {
    "colab": {
     "base_uri": "https://localhost:8080/",
     "height": 396
    },
    "id": "92559462",
    "outputId": "f8970693-8575-4c7d-92fc-f97d723a424e",
    "scrolled": true
   },
   "outputs": [
    {
     "data": {
      "text/html": [
       "<div>\n",
       "<style scoped>\n",
       "    .dataframe tbody tr th:only-of-type {\n",
       "        vertical-align: middle;\n",
       "    }\n",
       "\n",
       "    .dataframe tbody tr th {\n",
       "        vertical-align: top;\n",
       "    }\n",
       "\n",
       "    .dataframe thead th {\n",
       "        text-align: right;\n",
       "    }\n",
       "</style>\n",
       "<table border=\"1\" class=\"dataframe\">\n",
       "  <thead>\n",
       "    <tr style=\"text-align: right;\">\n",
       "      <th></th>\n",
       "      <th>count</th>\n",
       "      <th>mean</th>\n",
       "      <th>std</th>\n",
       "      <th>min</th>\n",
       "      <th>25%</th>\n",
       "      <th>50%</th>\n",
       "      <th>75%</th>\n",
       "      <th>max</th>\n",
       "    </tr>\n",
       "    <tr>\n",
       "      <th>COD_GRADO</th>\n",
       "      <th></th>\n",
       "      <th></th>\n",
       "      <th></th>\n",
       "      <th></th>\n",
       "      <th></th>\n",
       "      <th></th>\n",
       "      <th></th>\n",
       "      <th></th>\n",
       "    </tr>\n",
       "  </thead>\n",
       "  <tbody>\n",
       "    <tr>\n",
       "      <th>1</th>\n",
       "      <td>243881.0</td>\n",
       "      <td>6.337846</td>\n",
       "      <td>0.862165</td>\n",
       "      <td>1.0</td>\n",
       "      <td>6.1</td>\n",
       "      <td>6.7</td>\n",
       "      <td>6.9</td>\n",
       "      <td>7.0</td>\n",
       "    </tr>\n",
       "    <tr>\n",
       "      <th>2</th>\n",
       "      <td>248618.0</td>\n",
       "      <td>6.343828</td>\n",
       "      <td>0.798739</td>\n",
       "      <td>1.0</td>\n",
       "      <td>6.1</td>\n",
       "      <td>6.7</td>\n",
       "      <td>6.9</td>\n",
       "      <td>7.0</td>\n",
       "    </tr>\n",
       "    <tr>\n",
       "      <th>3</th>\n",
       "      <td>255417.0</td>\n",
       "      <td>6.260551</td>\n",
       "      <td>0.775006</td>\n",
       "      <td>1.0</td>\n",
       "      <td>5.9</td>\n",
       "      <td>6.5</td>\n",
       "      <td>6.8</td>\n",
       "      <td>7.0</td>\n",
       "    </tr>\n",
       "    <tr>\n",
       "      <th>4</th>\n",
       "      <td>259472.0</td>\n",
       "      <td>6.211636</td>\n",
       "      <td>0.743410</td>\n",
       "      <td>1.0</td>\n",
       "      <td>5.9</td>\n",
       "      <td>6.4</td>\n",
       "      <td>6.8</td>\n",
       "      <td>7.0</td>\n",
       "    </tr>\n",
       "    <tr>\n",
       "      <th>5</th>\n",
       "      <td>259578.0</td>\n",
       "      <td>6.058206</td>\n",
       "      <td>0.755322</td>\n",
       "      <td>1.0</td>\n",
       "      <td>5.6</td>\n",
       "      <td>6.2</td>\n",
       "      <td>6.6</td>\n",
       "      <td>7.0</td>\n",
       "    </tr>\n",
       "    <tr>\n",
       "      <th>6</th>\n",
       "      <td>258728.0</td>\n",
       "      <td>5.973108</td>\n",
       "      <td>0.758433</td>\n",
       "      <td>1.0</td>\n",
       "      <td>5.5</td>\n",
       "      <td>6.1</td>\n",
       "      <td>6.6</td>\n",
       "      <td>7.0</td>\n",
       "    </tr>\n",
       "    <tr>\n",
       "      <th>7</th>\n",
       "      <td>253018.0</td>\n",
       "      <td>5.847941</td>\n",
       "      <td>0.770140</td>\n",
       "      <td>1.0</td>\n",
       "      <td>5.4</td>\n",
       "      <td>6.0</td>\n",
       "      <td>6.5</td>\n",
       "      <td>7.0</td>\n",
       "    </tr>\n",
       "    <tr>\n",
       "      <th>8</th>\n",
       "      <td>242922.0</td>\n",
       "      <td>5.849377</td>\n",
       "      <td>0.755202</td>\n",
       "      <td>1.0</td>\n",
       "      <td>5.4</td>\n",
       "      <td>6.0</td>\n",
       "      <td>6.4</td>\n",
       "      <td>7.0</td>\n",
       "    </tr>\n",
       "  </tbody>\n",
       "</table>\n",
       "</div>"
      ],
      "text/plain": [
       "              count      mean       std  min  25%  50%  75%  max\n",
       "COD_GRADO                                                       \n",
       "1          243881.0  6.337846  0.862165  1.0  6.1  6.7  6.9  7.0\n",
       "2          248618.0  6.343828  0.798739  1.0  6.1  6.7  6.9  7.0\n",
       "3          255417.0  6.260551  0.775006  1.0  5.9  6.5  6.8  7.0\n",
       "4          259472.0  6.211636  0.743410  1.0  5.9  6.4  6.8  7.0\n",
       "5          259578.0  6.058206  0.755322  1.0  5.6  6.2  6.6  7.0\n",
       "6          258728.0  5.973108  0.758433  1.0  5.5  6.1  6.6  7.0\n",
       "7          253018.0  5.847941  0.770140  1.0  5.4  6.0  6.5  7.0\n",
       "8          242922.0  5.849377  0.755202  1.0  5.4  6.0  6.4  7.0"
      ]
     },
     "execution_count": 24,
     "metadata": {},
     "output_type": "execute_result"
    }
   ],
   "source": [
    "rend_jovenes[rend_jovenes.COD_ENSE == \"Básica\"].groupby(\"COD_GRADO\").PROM_GRAL.describe()"
   ]
  },
  {
   "cell_type": "markdown",
   "id": "dc9c33ac",
   "metadata": {
    "id": "dc9c33ac"
   },
   "source": [
    "#### Media"
   ]
  },
  {
   "cell_type": "code",
   "execution_count": 25,
   "id": "2f0fc5c6",
   "metadata": {
    "colab": {
     "base_uri": "https://localhost:8080/",
     "height": 270
    },
    "id": "2f0fc5c6",
    "outputId": "8d8bd239-8676-49b6-e380-d91de964e795",
    "scrolled": true
   },
   "outputs": [
    {
     "data": {
      "text/html": [
       "<div>\n",
       "<style scoped>\n",
       "    .dataframe tbody tr th:only-of-type {\n",
       "        vertical-align: middle;\n",
       "    }\n",
       "\n",
       "    .dataframe tbody tr th {\n",
       "        vertical-align: top;\n",
       "    }\n",
       "\n",
       "    .dataframe thead th {\n",
       "        text-align: right;\n",
       "    }\n",
       "</style>\n",
       "<table border=\"1\" class=\"dataframe\">\n",
       "  <thead>\n",
       "    <tr style=\"text-align: right;\">\n",
       "      <th></th>\n",
       "      <th>count</th>\n",
       "      <th>mean</th>\n",
       "      <th>std</th>\n",
       "      <th>min</th>\n",
       "      <th>25%</th>\n",
       "      <th>50%</th>\n",
       "      <th>75%</th>\n",
       "      <th>max</th>\n",
       "    </tr>\n",
       "    <tr>\n",
       "      <th>COD_GRADO</th>\n",
       "      <th></th>\n",
       "      <th></th>\n",
       "      <th></th>\n",
       "      <th></th>\n",
       "      <th></th>\n",
       "      <th></th>\n",
       "      <th></th>\n",
       "      <th></th>\n",
       "    </tr>\n",
       "  </thead>\n",
       "  <tbody>\n",
       "    <tr>\n",
       "      <th>1</th>\n",
       "      <td>243768.0</td>\n",
       "      <td>5.717712</td>\n",
       "      <td>0.914601</td>\n",
       "      <td>1.0</td>\n",
       "      <td>5.2</td>\n",
       "      <td>5.9</td>\n",
       "      <td>6.4</td>\n",
       "      <td>7.0</td>\n",
       "    </tr>\n",
       "    <tr>\n",
       "      <th>2</th>\n",
       "      <td>230015.0</td>\n",
       "      <td>5.862517</td>\n",
       "      <td>0.843888</td>\n",
       "      <td>1.0</td>\n",
       "      <td>5.4</td>\n",
       "      <td>6.0</td>\n",
       "      <td>6.5</td>\n",
       "      <td>7.0</td>\n",
       "    </tr>\n",
       "    <tr>\n",
       "      <th>3</th>\n",
       "      <td>218933.0</td>\n",
       "      <td>5.887909</td>\n",
       "      <td>0.930695</td>\n",
       "      <td>1.0</td>\n",
       "      <td>5.4</td>\n",
       "      <td>6.1</td>\n",
       "      <td>6.6</td>\n",
       "      <td>7.0</td>\n",
       "    </tr>\n",
       "    <tr>\n",
       "      <th>4</th>\n",
       "      <td>209228.0</td>\n",
       "      <td>6.080288</td>\n",
       "      <td>0.790426</td>\n",
       "      <td>1.0</td>\n",
       "      <td>5.7</td>\n",
       "      <td>6.3</td>\n",
       "      <td>6.7</td>\n",
       "      <td>7.0</td>\n",
       "    </tr>\n",
       "  </tbody>\n",
       "</table>\n",
       "</div>"
      ],
      "text/plain": [
       "              count      mean       std  min  25%  50%  75%  max\n",
       "COD_GRADO                                                       \n",
       "1          243768.0  5.717712  0.914601  1.0  5.2  5.9  6.4  7.0\n",
       "2          230015.0  5.862517  0.843888  1.0  5.4  6.0  6.5  7.0\n",
       "3          218933.0  5.887909  0.930695  1.0  5.4  6.1  6.6  7.0\n",
       "4          209228.0  6.080288  0.790426  1.0  5.7  6.3  6.7  7.0"
      ]
     },
     "execution_count": 25,
     "metadata": {},
     "output_type": "execute_result"
    }
   ],
   "source": [
    "rend_jovenes[rend_jovenes.COD_ENSE != \"Básica\"].groupby(\"COD_GRADO\").PROM_GRAL.describe()"
   ]
  },
  {
   "cell_type": "markdown",
   "id": "d2a47cee",
   "metadata": {
    "id": "d2a47cee"
   },
   "source": [
    "### Resumen\n",
    "\n",
    "Como es de esperarse dado los jóvenes son la mayoría de los estudiantes, la tendencia general se mantienen, con la excepción en el caso de los promedios por región, donde las diferencias se hacen más evidentes. En los promedios por curso se observa que tiende a descender en los cursos superiores, pero en la media la tendencia es la inversa.\n",
    "\n",
    "Este análisis no revela patrones demasiado evidentes. De todos modos, puesto que los colegios no necesariamente evalúan con el mismo estándar de notas, no está claro que tan comparables son las notas de alumnos que asisten a colegios distintos. En este sentido, podría ser útil hacer comparaciones entre alumnos del mismo colegio. Por ejemplo: comparar resultados de alumnos que estudian en la misma comuna donde viven con los de alumnos que estudian en colegios de otras comunas.\n",
    "\n",
    "\n",
    "### Promedio según comuna de estudio"
   ]
  },
  {
   "cell_type": "code",
   "execution_count": 26,
   "id": "8304ba43",
   "metadata": {
    "colab": {
     "base_uri": "https://localhost:8080/",
     "height": 207
    },
    "id": "8304ba43",
    "outputId": "fa43f047-d43d-496f-d8a7-03545d8203cf"
   },
   "outputs": [
    {
     "data": {
      "text/html": [
       "<div>\n",
       "<style scoped>\n",
       "    .dataframe tbody tr th:only-of-type {\n",
       "        vertical-align: middle;\n",
       "    }\n",
       "\n",
       "    .dataframe tbody tr th {\n",
       "        vertical-align: top;\n",
       "    }\n",
       "\n",
       "    .dataframe thead th {\n",
       "        text-align: right;\n",
       "    }\n",
       "</style>\n",
       "<table border=\"1\" class=\"dataframe\">\n",
       "  <thead>\n",
       "    <tr style=\"text-align: right;\">\n",
       "      <th></th>\n",
       "      <th>count</th>\n",
       "      <th>mean</th>\n",
       "      <th>std</th>\n",
       "      <th>min</th>\n",
       "      <th>25%</th>\n",
       "      <th>50%</th>\n",
       "      <th>75%</th>\n",
       "      <th>max</th>\n",
       "    </tr>\n",
       "    <tr>\n",
       "      <th>MISMA_COMUNA</th>\n",
       "      <th></th>\n",
       "      <th></th>\n",
       "      <th></th>\n",
       "      <th></th>\n",
       "      <th></th>\n",
       "      <th></th>\n",
       "      <th></th>\n",
       "      <th></th>\n",
       "    </tr>\n",
       "  </thead>\n",
       "  <tbody>\n",
       "    <tr>\n",
       "      <th>False</th>\n",
       "      <td>708430.0</td>\n",
       "      <td>6.012299</td>\n",
       "      <td>0.848627</td>\n",
       "      <td>1.0</td>\n",
       "      <td>5.5</td>\n",
       "      <td>6.2</td>\n",
       "      <td>6.7</td>\n",
       "      <td>7.0</td>\n",
       "    </tr>\n",
       "    <tr>\n",
       "      <th>True</th>\n",
       "      <td>2215148.0</td>\n",
       "      <td>6.047643</td>\n",
       "      <td>0.828764</td>\n",
       "      <td>1.0</td>\n",
       "      <td>5.6</td>\n",
       "      <td>6.2</td>\n",
       "      <td>6.7</td>\n",
       "      <td>7.0</td>\n",
       "    </tr>\n",
       "  </tbody>\n",
       "</table>\n",
       "</div>"
      ],
      "text/plain": [
       "                  count      mean       std  min  25%  50%  75%  max\n",
       "MISMA_COMUNA                                                        \n",
       "False          708430.0  6.012299  0.848627  1.0  5.5  6.2  6.7  7.0\n",
       "True          2215148.0  6.047643  0.828764  1.0  5.6  6.2  6.7  7.0"
      ]
     },
     "execution_count": 26,
     "metadata": {},
     "output_type": "execute_result"
    }
   ],
   "source": [
    "rend_jovenes[\"MISMA_COMUNA\"] = rend_jovenes.COD_COM_RBD == rend_jovenes.COD_COM_ALU\n",
    "\n",
    "rend_jovenes.groupby(\"MISMA_COMUNA\").PROM_GRAL.describe()"
   ]
  },
  {
   "cell_type": "markdown",
   "id": "728797b3",
   "metadata": {
    "id": "728797b3"
   },
   "source": [
    "El promedio general de los alumnos que estudian en la comuna en la que viven y el de aquellos que no parece distribuirse del mismo modo."
   ]
  },
  {
   "cell_type": "markdown",
   "id": "6bc15dff",
   "metadata": {
    "id": "6bc15dff"
   },
   "source": [
    "# Preguntas y problemas\n",
    "\n",
    "Al examinar el dataset se hace evidente que muchas variables no tienen el poder predictivo que se esperaba. Las diferencias más marcadas se dan en relación a la ubicación geográfica y el código de dependencia. Creemos que esto se debe a que los sistemas de evaluación utilizados por los colegios no están estandarizados mucho más allá de la escala de notas y los contenidos a pasar. Hay una multiplicidad de variables que afectan la forma en que los colegios evalúan a sus alumnos, por lo que las notas son poco comparables entre alumnos de colegios distintos. En consecuencia, es evidente que es necesario añadir datos que sean comparables entre colegios, o bien, derivar tales variables a partir de los atributos ya existentes. Por ejemplo, se puede considerar la distribución de notas de los colegios y tomar en cuenta la posición del alumno en relación a sus compañeros. \n",
    "\n",
    "Es necesario, entonces, buscar relaciones más complejas entre las variables. Al comparar promedios una variable a la vez se hace difícil observar tendencias. Por tanto, nos interesa utilizar algoritmos de clustering para determinar si existen combinaciones de variables que generen grupos de alumnos con rendimiento escolar similar. En general, del análisis de datos como los resultados de la PSU se observa que en Chile existe esta segregación, y nos interesa determinar si es posible identificarlos con los datos disponibles en este dataset."
   ]
  },
  {
   "cell_type": "markdown",
   "id": "be38e770",
   "metadata": {
    "id": "be38e770"
   },
   "source": [
    "Para poder formular preguntas más interesantes, utilizaremos [datos de la prueba de transición](http://datos.mineduc.cl/dashboards/21331/descarga-bases-de-datos-de-prueba-de-transicion-universitaria-2021/) para obtener una métrica comparable entre alumnos de colegios distintos. Además de los puntajes obtenidos por los alumnos, se encuentra también disponible información sobre sus postulaciones y matrícula. Puesto que todos estos datos están indexados de acuerdo a la máscara del RUN debería ser posible consolidarlos en una única base de datos con varios atributos.\n",
    "\n",
    "En esencia, nuestro objetivo sigue siendo el mismo: encontrar agrupaciones en los datos que puedan ser indicativas de segregación."
   ]
  },
  {
   "cell_type": "markdown",
   "id": "af69ba23-f1d7-40f3-b301-6934a173c301",
   "metadata": {
    "id": "af69ba23-f1d7-40f3-b301-6934a173c301"
   },
   "source": [
    "## Exploración Inicial del nuevo dataset\n",
    "\n",
    "### Preprocesamiento de los datos\n",
    "\n",
    "El dataset puntajes fue preprocesado en R para eliminar las entradas con datos inexistentes, los puntajes menores a 150 para las pruebas de matemática y lenguaje (esto representa los inscritos que no rindieron dichas evaluaciones). \n",
    "\n",
    "### Exploración\n",
    "\n",
    "La siguiente exploración resumirá las principales observaciones iniciales del dataset que contiene los resultados de los inscritos en la PTU 2021."
   ]
  },
  {
   "cell_type": "code",
   "execution_count": 27,
   "id": "5bd0a86e-86fd-419c-a9c6-ae9003b49267",
   "metadata": {
    "colab": {
     "base_uri": "https://localhost:8080/"
    },
    "id": "5bd0a86e-86fd-419c-a9c6-ae9003b49267",
    "outputId": "af363c8f-f00a-4bfc-d5d2-d47015b4ae76"
   },
   "outputs": [
    {
     "name": "stdout",
     "output_type": "stream",
     "text": [
      "<class 'pandas.core.frame.DataFrame'>\n",
      "RangeIndex: 276059 entries, 0 to 276058\n",
      "Data columns (total 72 columns):\n",
      " #   Column                   Non-Null Count   Dtype  \n",
      "---  ------                   --------------   -----  \n",
      " 0   MRUN                     276059 non-null  int64  \n",
      " 1   ANYO_PROCESO             276059 non-null  int64  \n",
      " 2   COD_SEXO                 276059 non-null  int64  \n",
      " 3   FECHA_NACIMIENTO         276056 non-null  float64\n",
      " 4   RBD                      272772 non-null  float64\n",
      " 5   CODIGO_ENS               272772 non-null  float64\n",
      " 6   LOCAL_EDUCACIONAL        272772 non-null  float64\n",
      " 7   UNIDAD_EDUCATIVA         272772 non-null  float64\n",
      " 8   NOMBRE_UNIDAD_EDUC       272772 non-null  object \n",
      " 9   RAMA_EDUCACIONAL         272772 non-null  object \n",
      " 10  DEPENDENCIA              272772 non-null  float64\n",
      " 11  CODIGO_REGION_EGRESO     276059 non-null  int64  \n",
      " 12  NOMBRE_REGION_EGRESO     272772 non-null  object \n",
      " 13  CODIGO_PROVINCIA_EGRESO  272772 non-null  float64\n",
      " 14  NOMBRE_PROVINCIA_EGRESO  272772 non-null  object \n",
      " 15  CODIGO_COMUNA_EGRESO     272772 non-null  float64\n",
      " 16  NOMBRE_COMUNA_EGRESO     272772 non-null  object \n",
      " 17  ANYO_DE_EGRESO           276059 non-null  int64  \n",
      " 18  PROMEDIO_NOTAS           272782 non-null  float64\n",
      " 19  PTJE_NEM                 276059 non-null  int64  \n",
      " 20  PORC_SUP_NOTAS           276059 non-null  int64  \n",
      " 21  PTJE_RANKING             276059 non-null  int64  \n",
      " 22  CLEC_ACTUAL              241393 non-null  float64\n",
      " 23  MATE_ACTUAL              241393 non-null  float64\n",
      " 24  HCSO_ACTUAL              241393 non-null  float64\n",
      " 25  CIEN_ACTUAL              241393 non-null  float64\n",
      " 26  PROM_CM_ACTUAL           276059 non-null  float64\n",
      " 27  PERCENTIL_CM_ACTUAL      241393 non-null  float64\n",
      " 28  BEA                      0 non-null       float64\n",
      " 29  LENG_ANTERIOR            241393 non-null  float64\n",
      " 30  MATE_ANTERIOR            241393 non-null  float64\n",
      " 31  HCSO_ANTERIOR            241393 non-null  float64\n",
      " 32  CIEN_ANTERIOR            241393 non-null  float64\n",
      " 33  PROMLM_ANTERIOR          276059 non-null  float64\n",
      " 34  PERCENTIL_LM_ANTERIOR    241393 non-null  float64\n",
      " 35  PUNTAJES_PROCESO         276059 non-null  int64  \n",
      " 36  TIPO_RENDICION           276059 non-null  int64  \n",
      " 37  PRUEBA_CL                276059 non-null  object \n",
      " 38  FORMA_CL                 276059 non-null  int64  \n",
      " 39  CORRECTAS_CL             276059 non-null  int64  \n",
      " 40  ERRADAS_CL               276059 non-null  int64  \n",
      " 41  OMITIDAS_CL              276059 non-null  int64  \n",
      " 42  PRUEBA_MATE              276059 non-null  object \n",
      " 43  FORMA_MATE               276059 non-null  int64  \n",
      " 44  CORRECTAS_MATE           276059 non-null  int64  \n",
      " 45  ERRADAS_MATE             276059 non-null  int64  \n",
      " 46  OMITIDAS_MATE            276059 non-null  int64  \n",
      " 47  PRUEBA_HCS               276059 non-null  object \n",
      " 48  FORMA_HCS                276059 non-null  int64  \n",
      " 49  CORRECTAS_HCS            276059 non-null  int64  \n",
      " 50  ERRADAS_HCS              276059 non-null  int64  \n",
      " 51  OMITIDAS_HCS             276059 non-null  int64  \n",
      " 52  PRUEBA_CBIO              276059 non-null  object \n",
      " 53  FORMA_CBIO               276059 non-null  int64  \n",
      " 54  CORRECTAS_CBIO           276059 non-null  int64  \n",
      " 55  ERRADAS_CBIO             276059 non-null  int64  \n",
      " 56  OMITIDAS_CBIO            276059 non-null  int64  \n",
      " 57  PRUEBA_CFIS              276059 non-null  object \n",
      " 58  FORMA_CFIS               276059 non-null  int64  \n",
      " 59  CORRECTAS_CFIS           276059 non-null  int64  \n",
      " 60  ERRADAS_CFIS             276059 non-null  int64  \n",
      " 61  OMITIDAS_CFIS            276059 non-null  int64  \n",
      " 62  PRUEBA_CQUI              276059 non-null  object \n",
      " 63  FORMA_CQUI               276059 non-null  int64  \n",
      " 64  CORRECTAS_CQUI           276059 non-null  int64  \n",
      " 65  ERRADAS_CQUI             276059 non-null  int64  \n",
      " 66  OMITIDAS_CQUI            276059 non-null  int64  \n",
      " 67  PRUEBA_CTP               276059 non-null  object \n",
      " 68  FORMA_CTP                276059 non-null  int64  \n",
      " 69  CORRECTAS_CTP            276059 non-null  int64  \n",
      " 70  ERRADAS_CTP              276059 non-null  int64  \n",
      " 71  OMITIDAS_CTP             276059 non-null  int64  \n",
      "dtypes: float64(22), int64(38), object(12)\n",
      "memory usage: 151.6+ MB\n"
     ]
    }
   ],
   "source": [
    "import pandas as pd\n",
    "import numpy as np\n",
    "import matplotlib.pyplot as plt\n",
    "\n",
    "#ws = \"/Users/catalaxis/Documents/Minerai de datos/proyecto2/\"\n",
    "\n",
    "# puntajes PTU\n",
    "\n",
    "puntajes = pd.read_csv(puntajes_path, sep=\";\", decimal=\",\", na_values=\" \", low_memory=False, compression=\"zip\")\n",
    "#puntajes = puntajes.drop('Unnamed: 0', 1) #se elimina vector que repite las posiciones\n",
    "\n",
    "puntajes.info()"
   ]
  },
  {
   "cell_type": "markdown",
   "id": "4161e37e-1194-4dc8-a2c4-e055c07d1c48",
   "metadata": {
    "id": "4161e37e-1194-4dc8-a2c4-e055c07d1c48"
   },
   "source": [
    "El dataset abarca la información de más de 220mil inscritos que rindieron la PTU 2021.\n",
    "Este dataset principalmente provee:\n",
    "\n",
    "- Rut e información asociada a cada estudiante (género, edad).\n",
    "- Rendimiento durante la enseñanza media y en las pruebas que haya rendido actualmente (2021) y anteriormente.\n",
    "- Variables geográficas.\n",
    "- Dependencia del establecimiento de egreso (esta variable nos indica de qué forma es administrado el establecimiento).\n",
    "- Tipo de enseñanza del establecimiento de egreso."
   ]
  },
  {
   "cell_type": "code",
   "execution_count": 28,
   "id": "82f974b9-eecd-4279-a7ad-cca4aeb118c0",
   "metadata": {
    "colab": {
     "base_uri": "https://localhost:8080/",
     "height": 565
    },
    "id": "82f974b9-eecd-4279-a7ad-cca4aeb118c0",
    "outputId": "89241e38-e7c0-482d-e913-50d0c4cc956a"
   },
   "outputs": [
    {
     "data": {
      "text/plain": [
       "<AxesSubplot:>"
      ]
     },
     "execution_count": 28,
     "metadata": {},
     "output_type": "execute_result"
    },
    {
     "data": {
      "image/png": "[encoded data removed]",
      "text/plain": [
       "<Figure size 432x288 with 1 Axes>"
      ]
     },
     "metadata": {
      "needs_background": "light"
     },
     "output_type": "display_data"
    }
   ],
   "source": [
    "puntajes[\"NOMBRE_REGION_EGRESO\"].value_counts().plot(kind=\"bar\")"
   ]
  },
  {
   "cell_type": "markdown",
   "id": "8253f7c4-12b1-4879-90a8-41c4b15f4704",
   "metadata": {
    "id": "8253f7c4-12b1-4879-90a8-41c4b15f4704"
   },
   "source": [
    "Asimismo se observó en la exploración de los datos de los estudiantes. No es sorpresa, pero se considera importante dejar evidencia de esto."
   ]
  },
  {
   "cell_type": "code",
   "execution_count": 29,
   "id": "2e129787-c04c-4e9f-8ede-081dbe0ccc75",
   "metadata": {
    "colab": {
     "base_uri": "https://localhost:8080/",
     "height": 279
    },
    "id": "2e129787-c04c-4e9f-8ede-081dbe0ccc75",
    "outputId": "e4ee6484-b4ce-4a10-bbce-001575d6f005"
   },
   "outputs": [
    {
     "data": {
      "text/plain": [
       "<AxesSubplot:>"
      ]
     },
     "execution_count": 29,
     "metadata": {},
     "output_type": "execute_result"
    },
    {
     "data": {
      "image/png": "[encoded data removed]",
      "text/plain": [
       "<Figure size 432x288 with 1 Axes>"
      ]
     },
     "metadata": {
      "needs_background": "light"
     },
     "output_type": "display_data"
    }
   ],
   "source": [
    "puntajes[\"COD_SEXO\"].value_counts().plot(kind=\"bar\")"
   ]
  },
  {
   "cell_type": "markdown",
   "id": "fae78d04-7069-43d9-8ac0-0d460f1a33b0",
   "metadata": {
    "id": "fae78d04-7069-43d9-8ac0-0d460f1a33b0"
   },
   "source": [
    "Se observa que las inscritas superan a los inscritos en esta oportunidad."
   ]
  },
  {
   "cell_type": "code",
   "execution_count": 30,
   "id": "3717dfd6-02ff-4247-b43d-01a7430bcf09",
   "metadata": {
    "colab": {
     "base_uri": "https://localhost:8080/",
     "height": 288
    },
    "id": "3717dfd6-02ff-4247-b43d-01a7430bcf09",
    "outputId": "636033c4-5ee7-4a0d-b47e-adfa95a57250"
   },
   "outputs": [
    {
     "data": {
      "text/plain": [
       "<AxesSubplot:>"
      ]
     },
     "execution_count": 30,
     "metadata": {},
     "output_type": "execute_result"
    },
    {
     "data": {
      "image/png": "[encoded data removed]",
      "text/plain": [
       "<Figure size 432x288 with 1 Axes>"
      ]
     },
     "metadata": {
      "needs_background": "light"
     },
     "output_type": "display_data"
    }
   ],
   "source": [
    "puntajes[\"DEPENDENCIA\"].value_counts().plot(kind=\"bar\")"
   ]
  },
  {
   "cell_type": "markdown",
   "id": "4f89fbc6-180b-4035-b708-e22cb27387ee",
   "metadata": {
    "id": "4f89fbc6-180b-4035-b708-e22cb27387ee"
   },
   "source": [
    "La mayoría de los inscritos egresó de colegios particulares subvencionados (3), la segunda gran mayoría de municipales (1 y 2). En contraste los inscritos que egrasaron de colegios particulares pagados representan una minoría.\n",
    "\n",
    "A continuación se separarán los resultados según la dependencia del establecimiento, posteriormente se explorarán las brechas y diferencias entre el rendimiento de los inscritos egresados."
   ]
  },
  {
   "cell_type": "code",
   "execution_count": 31,
   "id": "a0790bd6-b73b-4916-82d1-276bf0481760",
   "metadata": {
    "id": "a0790bd6-b73b-4916-82d1-276bf0481760"
   },
   "outputs": [],
   "source": [
    "puntajesMUNI = puntajes.drop(\n",
    "    puntajes[(puntajes.DEPENDENCIA >= 3)].index)\n",
    "puntajesSUB = puntajes.drop(\n",
    "    puntajes[(puntajes.DEPENDENCIA != 3)].index)\n",
    "puntajesPRIV = puntajes.drop(\n",
    "    puntajes[(puntajes.DEPENDENCIA != 4)].index)"
   ]
  },
  {
   "cell_type": "code",
   "execution_count": 32,
   "id": "fdc9329b-8f18-4f2e-85ee-2cecfaac5aab",
   "metadata": {
    "colab": {
     "base_uri": "https://localhost:8080/",
     "height": 311
    },
    "id": "fdc9329b-8f18-4f2e-85ee-2cecfaac5aab",
    "outputId": "20036635-a997-46f3-f333-298a5407671a"
   },
   "outputs": [
    {
     "data": {
      "text/plain": [
       "Text(0.5, 0.98, 'Distribución de puntajes compresión lectora')"
      ]
     },
     "execution_count": 32,
     "metadata": {},
     "output_type": "execute_result"
    },
    {
     "data": {
      "image/png": "[encoded data removed]",
      "text/plain": [
       "<Figure size 432x288 with 1 Axes>"
      ]
     },
     "metadata": {
      "needs_background": "light"
     },
     "output_type": "display_data"
    }
   ],
   "source": [
    "hist_CL = puntajes[\"CLEC_ACTUAL\"].plot(kind=\"hist\")\n",
    "x = np.linspace(0,900,50)*0\n",
    "y = np.linspace(0,55000,50)\n",
    "muni_med = puntajesMUNI[\"CLEC_ACTUAL\"].median()\n",
    "sub_med = puntajesSUB[\"CLEC_ACTUAL\"].median()\n",
    "priv_med = puntajesPRIV[\"CLEC_ACTUAL\"].median()\n",
    "plt.plot(x + muni_med,y,color = \"#3AB795\")\n",
    "plt.plot(x + sub_med,y,color = \"#A0E8AF\")\n",
    "plt.plot(x + priv_med,y,color = \"#FFCF56\")\n",
    "plt.suptitle(\"Distribución de puntajes compresión lectora\")"
   ]
  },
  {
   "cell_type": "code",
   "execution_count": 33,
   "id": "e89c04a1-4486-45d6-be1b-3f01afae9649",
   "metadata": {
    "colab": {
     "base_uri": "https://localhost:8080/",
     "height": 311
    },
    "id": "e89c04a1-4486-45d6-be1b-3f01afae9649",
    "outputId": "88e9ed6c-8408-4548-bd77-04cb07e46c48"
   },
   "outputs": [
    {
     "data": {
      "text/plain": [
       "Text(0.5, 0.98, 'Distribución de puntajes matemáticas')"
      ]
     },
     "execution_count": 33,
     "metadata": {},
     "output_type": "execute_result"
    },
    {
     "data": {
      "image/png": "[encoded data removed]",
      "text/plain": [
       "<Figure size 432x288 with 1 Axes>"
      ]
     },
     "metadata": {
      "needs_background": "light"
     },
     "output_type": "display_data"
    }
   ],
   "source": [
    "hist_CL = puntajes[\"MATE_ACTUAL\"].plot(kind=\"hist\")\n",
    "x = np.linspace(0,900,50)*0\n",
    "y = np.linspace(0,55000,50)\n",
    "muni_med = puntajesMUNI[\"MATE_ACTUAL\"].median()\n",
    "sub_med = puntajesSUB[\"MATE_ACTUAL\"].median()\n",
    "priv_med = puntajesPRIV[\"MATE_ACTUAL\"].median()\n",
    "plt.plot(x + muni_med,y,color = \"#3AB795\")\n",
    "plt.plot(x + sub_med,y,color = \"#A0E8AF\")\n",
    "plt.plot(x + priv_med,y,color = \"#FFCF56\")\n",
    "plt.suptitle(\"Distribución de puntajes matemáticas\")"
   ]
  },
  {
   "cell_type": "markdown",
   "id": "011498a4-fde9-4b9a-beee-6e6f35042622",
   "metadata": {
    "id": "011498a4-fde9-4b9a-beee-6e6f35042622"
   },
   "source": [
    "Como se puede apreciar, existe un importante desplazamiento de la mediana del puntaje obtenido en las pruebas de lenguaje y matemática de los inscritos egresados de establecimientos particulares (maiz), con respecto a los egresados de municipales (menta) y subvencionados (celadon). \n",
    "\n",
    "Para postular a una universidad adscrita al CRUCH es requisito poseer un puntaje promedio entre las pruebas de lenguaje y matemáticas superior a 475. Una observación intersante es mostrar cuál es la proporción según el tipo de establecimiento que no cumple con el requisito anterior:"
   ]
  },
  {
   "cell_type": "code",
   "execution_count": 34,
   "id": "860a8cc3-932b-4490-a259-793cf46a724e",
   "metadata": {
    "colab": {
     "base_uri": "https://localhost:8080/"
    },
    "id": "860a8cc3-932b-4490-a259-793cf46a724e",
    "outputId": "b24563b0-164e-4a23-cc58-f427f4ff0bd0"
   },
   "outputs": [
    {
     "name": "stdout",
     "output_type": "stream",
     "text": [
      "Para municipales: 0.6348128498356328\n",
      "Para subvencionados: 0.5058699661427509\n",
      "Para privados: 0.21416123410572516\n"
     ]
    }
   ],
   "source": [
    "puntajes475MUNI = puntajesMUNI.drop(\n",
    "    puntajesMUNI[(puntajesMUNI.PROM_CM_ACTUAL > 475)].index)\n",
    "puntajes475SUB = puntajesSUB.drop(\n",
    "    puntajesSUB[(puntajesSUB.PROM_CM_ACTUAL > 475)].index)\n",
    "puntajes475PRIV = puntajesPRIV.drop(\n",
    "    puntajesPRIV[(puntajesPRIV.PROM_CM_ACTUAL > 475)].index)\n",
    "print(\"Para municipales: \" + str(len(puntajes475MUNI)/len(puntajesMUNI)))\n",
    "print(\"Para subvencionados: \" + str(len(puntajes475SUB)/len(puntajesSUB)))\n",
    "print(\"Para privados: \" + str(len(puntajes475PRIV)/len(puntajesPRIV)))"
   ]
  },
  {
   "cell_type": "markdown",
   "id": "e8f60153-3830-4fb5-99ec-30a6cbbabb52",
   "metadata": {
    "id": "e8f60153-3830-4fb5-99ec-30a6cbbabb52"
   },
   "source": [
    "Las observaciones anteriores evidencian la fuerte relación entre el rendimiento en la PTU y el tipo de establecimiento de egreso de los inscritos. "
   ]
  },
  {
   "cell_type": "code",
   "execution_count": 35,
   "id": "9e014b65-8e75-4c46-a93a-db612677e932",
   "metadata": {
    "colab": {
     "base_uri": "https://localhost:8080/",
     "height": 297
    },
    "id": "9e014b65-8e75-4c46-a93a-db612677e932",
    "outputId": "ac10f9b4-bafb-4b3c-8694-520b1f8eb215"
   },
   "outputs": [
    {
     "data": {
      "text/plain": [
       "<AxesSubplot:xlabel='CODIGO_REGION_EGRESO', ylabel='PROM_CM_ACTUAL'>"
      ]
     },
     "execution_count": 35,
     "metadata": {},
     "output_type": "execute_result"
    },
    {
     "data": {
      "image/png": "[encoded data removed]",
      "text/plain": [
       "<Figure size 432x288 with 1 Axes>"
      ]
     },
     "metadata": {
      "needs_background": "light"
     },
     "output_type": "display_data"
    }
   ],
   "source": [
    "import seaborn as sns\n",
    "sns.boxplot(x=\"CODIGO_REGION_EGRESO\", y=\"PROM_CM_ACTUAL\", data=puntajes)"
   ]
  },
  {
   "cell_type": "markdown",
   "id": "6d88eb09-1a46-4904-9bc6-fcc9be5f5d50",
   "metadata": {
    "id": "6d88eb09-1a46-4904-9bc6-fcc9be5f5d50"
   },
   "source": [
    "Existe una relación pequeña entre el rendimiento promedio de los inscritos en las pruebas de matemáticas y lenguaje y su región de egreso (una de las variables geográficas). \n",
    "\n",
    "### Resumen\n",
    "\n",
    "El nuevo dataset proporciona información vital para el análisis, de los que sí se deduce que existen variables determinantes para el rendimiento de los estudiantes, como es el caso de la dependencia del establecimiento."
   ]
  },
  {
   "cell_type": "markdown",
   "id": "8bf0f6ba",
   "metadata": {
    "id": "8bf0f6ba"
   },
   "source": [
    "# Propuesta experimental\n",
    "\n",
    "## Consolidación del dataset"
   ]
  },
  {
   "cell_type": "markdown",
   "id": "2dcc940e",
   "metadata": {
    "id": "2dcc940e"
   },
   "source": [
    "Del dataset de rendimiento académico se tomará:\n",
    "- Colegio\n",
    "- Dependencia del colegio (municipal, subvencionado, etc.)\n",
    "- Región y comuna del colegio\n",
    "- Ruralidad del colegio (si/no)\n",
    "- Región y comuna de residencia del alumno\n",
    "- Género del alumno\n",
    "\n",
    "Del dataset de puntajes de la prueba de transición:\n",
    "- Promedio notas de enseñanza media del alumno\n",
    "- Puntaje lenguaje, matemáticas y pruebas específicas\n",
    "\n",
    "Adicionalmente, se incorpora la ubicación (coordenadas geográficas) de las comunas."
   ]
  },
  {
   "cell_type": "markdown",
   "id": "6601ee91-36d8-4ad1-bb44-91401ec170e4",
   "metadata": {
    "id": "6601ee91-36d8-4ad1-bb44-91401ec170e4"
   },
   "source": [
    "### Propuesta Clasificación\n",
    "- Se seleccionan los siguientes atributos del dataset: \n",
    "    'RBD',\n",
    "    'RAMA_EDUCACIONAL',\n",
    "    'DEPENDENCIA',\n",
    "    'NOMBRE_COMUNA_EGRESO',\n",
    "    'PTJE_NEM',\n",
    "    'PORC_SUP_NOTAS',\n",
    "    'PTJE_RANKING',\n",
    "    'CLEC_ACTUAL',\n",
    "    'MATE_ACTUAL',\n",
    "    'HCSO_ACTUAL',\n",
    "    'CIEN_ACTUAL',\n",
    "    'CORRECTAS_CL',\n",
    "    'ERRADAS_CL',\n",
    "    'OMITIDAS_CL',\n",
    "    'CORRECTAS_MATE',\n",
    "    'ERRADAS_MATE',\n",
    "    'OMITIDAS_MATE',\n",
    "    'CORRECTAS_HCS',\n",
    "    'ERRADAS_HCS',\n",
    "    'OMITIDAS_HCS',\n",
    "    'CIENCIA_CORRECTAS',\n",
    "    'CIENCIA_ERRADAS',\n",
    "    'CIENCIA_OMITIDAS'\n",
    "- Los atributos NOMBRE_COMUNA_EGRESO y RAMA_EDUCACIONAL corresponden a strings, generamos un entero que codifique cada valor único\n",
    "- No consideramos relevante la mención para quienes rinden la prueba de ciencias sino la cantidad de respuestas correctas, por las cuales se agregan de la siguiente forma:\n",
    "    CIENCIA_CORRECTAS = CORRECTAS_CFIS + CORRECTAS_CQUI + CORRECTAS_CBIO\n",
    "- Se agregar la nueva columna creadas al dataset\n",
    "- Separar el dataset en dos, uno para quienes dan la prueba de ciencia, otro para quienes dan la prueba de historia y ciencias sociales, filtrando según HSCO_ACTUAL=0 y CIEN_ACTUAL=0 para obtener los dataset ciencia e historia respectivamente\n",
    "- Para “ciencias” se agrega la nueva columna CORRECTAS_TOTAL que es CORRECTAS_MATE + CORRECTAS_CL + CIENCIA_CORRECTAS\n",
    "- Para “historia” se agrega la nueva columna CORRECTAS_TOTAL que es CORRECTAS_MATE + CORRECTAS_CL + CIENCIA_HCS\n",
    "- Para dataset “ciencia” nos quedamos solo con las columnas RBD, RAMA_EDUCACIONAL, DEPENDENCIA, NOMBRE_COMUNA_EGRESO, CORRECTAS_TOTAL\n",
    "- Para dataset “historia” nos quedamos solo con las columnas RBD, RAMA_EDUCACIONAL, DEPENDENCIA, NOMBRE_COMUNA_EGRESO, CORRECTAS_TOTAL\n",
    "- El vector “y” de clases corresponde a la columna CORRECTAS_TOTAL. Se tienen dos vectores de clases, uno para ciencia “yc”, otro para historia “yh”\n",
    "- El dataframe “X” de atributos corresponde a las columnas RBD, RAMA_EDUCACIONAL, DEPENDENCIA, NOMBRE_COMUNA_EGRESO de los respectivos datasets. Se tiene uno para ciencia “Xc”, otro para historia “Xh”\n",
    "- Ahora queda decidir cómo se va a conformar el training set y el test set, lo hacemos de dos formas\n",
    "    1)\t70% training set, 30% test set \n",
    "    2)\tCross validation\n",
    "- Se utilizan los siguientes clasificadores: Decision Tree, Support Vector Classifier, KNN\n",
    "- Respecto a la elección de parámetros para los clasificadores, utilizamos Grid search\n",
    "- Se procede a comparar el rendimiento de cada modelo entrenado, mediante comparación de métricas precision, recall, f1-score y accuracy\n",
    "- Se escoge el modelo con mejores métricas \n"
   ]
  },
  {
   "cell_type": "markdown",
   "id": "aa46cacc",
   "metadata": {
    "id": "aa46cacc"
   },
   "source": [
    "### Clustering\n",
    "\n",
    "- Se seleccionan los siguientes atributos:\n",
    "    - Ubicación del colegio de egreso\n",
    "    - Ubicación residencia del alumno\n",
    "    - Promedio de notas de enseñanza media\n",
    "    - Puntaje PDT\n",
    "- Se quitan los datos que presenten puntaje 0.0 en la prueba de matemáticas o la de lenguaje.\n",
    "- Se normalizan estos atributos al rango (0, 1).\n",
    "- Se generan dos sub-conjuntos: quienes dieron la prueba de ciencias, y quienes dieron la de historia. Nótese que estos conjuntos no son disjuntos (hay gente que dio las dos pruebas).\n",
    "\n",
    "Para el clustering con k-Means:\n",
    "- Se utiliza el método del codo para estimar `k`.\n",
    "- Se generan dos clusterings (historia y ciencias).\n",
    "- Se grafica y evalúa visualmente el resultado. Si es necesario, se pueden aplicar otros métodos de evaluación de clusters.\n",
    "\n",
    "#### Variantes\n",
    "- Se puede aplicar otros algoritmos de clustering (i.e. DBSCAN).\n",
    "- Se puede usar otro subconjunto de los atributos."
   ]
  },
  {
   "cell_type": "markdown",
   "id": "420a3b5d",
   "metadata": {
    "id": "420a3b5d"
   },
   "source": [
    "## Implementación\n",
    "\n",
    "### Consolidación de datos"
   ]
  },
  {
   "cell_type": "code",
   "execution_count": 36,
   "id": "76149702",
   "metadata": {
    "id": "76149702"
   },
   "outputs": [],
   "source": [
    "# puntajes PTU\n",
    "#puntajes = pd.read_csv(\"datos/mineduc/PDT/puntajes_2021.csv\", sep=\";\", decimal=\",\", low_memory=False, na_values=\" \")\n"
   ]
  },
  {
   "cell_type": "code",
   "execution_count": null,
   "id": "BrMYjt80LS1e",
   "metadata": {
    "id": "BrMYjt80LS1e"
   },
   "outputs": [],
   "source": []
  },
  {
   "cell_type": "code",
   "execution_count": 37,
   "id": "0897264a",
   "metadata": {
    "id": "0897264a"
   },
   "outputs": [],
   "source": [
    "datos = pd.merge(\n",
    "    rendimiento[[\"MRUN\", \"COD_COM_RBD\", \"RURAL_RBD\", \"COD_COM_ALU\", \"GEN_ALU\", \"COD_DEPE\", \"COD_DEPE2\"]],\n",
    "    puntajes[[\"MRUN\", \"PROMEDIO_NOTAS\", \"CLEC_ACTUAL\",\"MATE_ACTUAL\", \"HCSO_ACTUAL\", \"CIEN_ACTUAL\"]]\n",
    ")"
   ]
  },
  {
   "cell_type": "code",
   "execution_count": 38,
   "id": "69900ef9",
   "metadata": {
    "id": "69900ef9"
   },
   "outputs": [],
   "source": [
    "# posicion (latitud, longitud) comuna\n",
    "#pos_com = pd.read_json(\"coord.json\", dtype={\"name\":\"category\"})\n",
    "pos_com = pd.read_json(\"https://raw.githubusercontent.com/zerujio/proyecto-cc5206/main/coord.json\",\n",
    "                       dtype={\"name\":\"category\"})\n",
    "\n",
    "# codigo de comuna\n",
    "#cod_com = pd.read_csv(\"CUT_2018_v04.csv\", sep=\";\", decimal=\",\")\n",
    "cod_com = pd.read_csv(\"https://raw.githubusercontent.com/zerujio/proyecto-cc5206/main/CUT_2018_v04.csv\", \n",
    "                      sep=\";\", decimal=\",\")\n",
    "cod_com = cod_com.rename(columns={\"Nombre Comuna\":\"nombre_comuna\", \n",
    "                                  \"Código Comuna 2018\":\"codigo_comuna\"})\n",
    "\n",
    "# merge\n",
    "comunas = pd.merge(pos_com, cod_com, left_on=\"name\", right_on=\"nombre_comuna\")"
   ]
  },
  {
   "cell_type": "code",
   "execution_count": 39,
   "id": "9003eadb",
   "metadata": {
    "id": "9003eadb",
    "scrolled": true
   },
   "outputs": [],
   "source": [
    "datos_RBD = pd.merge(datos, \n",
    "                     comunas[[\"lng\", \"lat\", \"nombre_comuna\", \"codigo_comuna\"]],\n",
    "                     \"left\", left_on=\"COD_COM_RBD\", right_on=\"codigo_comuna\")\n",
    "datos_RBD = datos_RBD.rename(\n",
    "    columns={\"lng\":\"lng_col\", \"lat\":\"lat_col\", \n",
    "             \"codigo_comuna\":\"cod_com_col\", \"nombre_comuna\":\"nom_com_col\"})"
   ]
  },
  {
   "cell_type": "code",
   "execution_count": 40,
   "id": "29c1d5f1",
   "metadata": {
    "id": "29c1d5f1"
   },
   "outputs": [],
   "source": [
    "datos_col_alu = pd.merge(datos_RBD,\n",
    "                         comunas[[\"lng\", \"lat\", \"codigo_comuna\", \"nombre_comuna\"]],\n",
    "                         \"left\", left_on=\"COD_COM_ALU\", right_on=\"codigo_comuna\")\n",
    "datos_col_alu = datos_col_alu.rename(\n",
    "    columns={\"lng\":\"lng_alu\", \"lat\":\"lat_alu\", \n",
    "             \"codigo_comuna\":\"cod_com_alu\", \"nombre_comuna\":\"nom_com_alu\"})"
   ]
  },
  {
   "cell_type": "code",
   "execution_count": 41,
   "id": "93899b51",
   "metadata": {
    "colab": {
     "base_uri": "https://localhost:8080/"
    },
    "id": "93899b51",
    "outputId": "a0e7ecd3-196d-4c59-d818-70ea913e3385"
   },
   "outputs": [
    {
     "name": "stdout",
     "output_type": "stream",
     "text": [
      "<class 'pandas.core.frame.DataFrame'>\n",
      "Int64Index: 191165 entries, 0 to 191164\n",
      "Data columns (total 18 columns):\n",
      " #   Column          Non-Null Count   Dtype   \n",
      "---  ------          --------------   -----   \n",
      " 0   MRUN            191165 non-null  int64   \n",
      " 1   COD_COM_RBD     191165 non-null  int64   \n",
      " 2   RURAL_RBD       191165 non-null  category\n",
      " 3   COD_COM_ALU     191165 non-null  int64   \n",
      " 4   GEN_ALU         191165 non-null  category\n",
      " 5   COD_DEPE        191165 non-null  category\n",
      " 6   COD_DEPE2       191165 non-null  category\n",
      " 7   PROMEDIO_NOTAS  189465 non-null  float64 \n",
      " 8   CLEC_ACTUAL     166025 non-null  float64 \n",
      " 9   MATE_ACTUAL     166025 non-null  float64 \n",
      " 10  HCSO_ACTUAL     166025 non-null  float64 \n",
      " 11  CIEN_ACTUAL     166025 non-null  float64 \n",
      " 12  lng_col         191165 non-null  float64 \n",
      " 13  lat_col         191165 non-null  float64 \n",
      " 14  nom_com_col     191165 non-null  object  \n",
      " 15  lng_alu         191165 non-null  float64 \n",
      " 16  lat_alu         191165 non-null  float64 \n",
      " 17  nom_com_alu     191165 non-null  object  \n",
      "dtypes: category(4), float64(9), int64(3), object(2)\n",
      "memory usage: 22.6+ MB\n"
     ]
    }
   ],
   "source": [
    "datos_col_alu = datos_col_alu.drop(columns=[\"cod_com_alu\", \"cod_com_col\"])\n",
    "datos_col_alu.info()"
   ]
  },
  {
   "cell_type": "markdown",
   "id": "2b1d58f9",
   "metadata": {
    "id": "2b1d58f9"
   },
   "source": [
    "### Clustering con K-means\n",
    "#### Normalización de datos"
   ]
  },
  {
   "cell_type": "code",
   "execution_count": 42,
   "id": "a9c92fb5",
   "metadata": {
    "id": "a9c92fb5"
   },
   "outputs": [],
   "source": [
    "datos_col_alu = datos_col_alu.dropna()\n",
    "\n",
    "norm = pd.DataFrame()\n",
    "\n",
    "# NEM\n",
    "norm[\"prom_notas\"] = (datos_col_alu.PROMEDIO_NOTAS - 4.0) / 3.0\n",
    "\n",
    "# Puntajes PTU\n",
    "def ptje_norm(serie):\n",
    "    return (serie - 150) / 700\n",
    "\n",
    "norm[\"ptje_leng\"] = ptje_norm(datos_col_alu.CLEC_ACTUAL)\n",
    "norm[\"ptje_mate\"] = ptje_norm(datos_col_alu.MATE_ACTUAL)\n",
    "norm[\"ptje_hist\"] = ptje_norm(datos_col_alu.HCSO_ACTUAL)\n",
    "norm[\"ptje_cien\"] = ptje_norm(datos_col_alu.CIEN_ACTUAL)\n",
    "\n",
    "# ubicación\n",
    "# Las coordenadas geográficas se normalizan en un cuadrado de 45° de lado \n",
    "# (un poco más que el largo de Chile)\n",
    "min_lat = -60.0\n",
    "max_lat = -15.0\n",
    "min_lng = -75.0 - 17.5\n",
    "max_lng = -65.0 + 17.5\n",
    "\n",
    "def lat_norm(serie):\n",
    "    return (serie - min_lat) / (max_lat - min_lat)\n",
    "\n",
    "def lng_norm(serie):\n",
    "    return (serie - min_lng) / (max_lng - min_lng)\n",
    "\n",
    "norm[\"lat_alu\"] = lat_norm(datos_col_alu.lat_alu)\n",
    "norm[\"lng_alu\"] = lng_norm(datos_col_alu.lng_alu)\n",
    "norm[\"lat_col\"] = lat_norm(datos_col_alu.lat_col)\n",
    "norm[\"lng_col\"] = lng_norm(datos_col_alu.lng_col)"
   ]
  },
  {
   "cell_type": "markdown",
   "id": "73cf30f0",
   "metadata": {
    "id": "73cf30f0"
   },
   "source": [
    "#### K-Means"
   ]
  },
  {
   "cell_type": "code",
   "execution_count": 43,
   "id": "8565d6d9",
   "metadata": {
    "id": "8565d6d9"
   },
   "outputs": [],
   "source": [
    "from sklearn.cluster import KMeans\n",
    "\n",
    "import matplotlib.pyplot as plt"
   ]
  },
  {
   "cell_type": "code",
   "execution_count": 44,
   "id": "9e3889cc",
   "metadata": {
    "id": "9e3889cc"
   },
   "outputs": [],
   "source": [
    "basic = [\"prom_notas\", \"ptje_leng\", \"ptje_mate\", \"lng_col\", \"lat_col\", \"lng_alu\", \"lat_alu\"]\n",
    "cien = basic + [\"ptje_cien\"]\n",
    "hcso = basic + [\"ptje_hist\"]\n",
    "\n",
    "km_data = norm.drop(norm[(norm.ptje_mate < 0.0) | (norm.ptje_leng < 0.0)].index)\n",
    "\n",
    "cien_data = km_data[km_data.ptje_cien >= 0.0]\n",
    "hcso_data = km_data[km_data.ptje_hist >= 0.0]"
   ]
  },
  {
   "cell_type": "markdown",
   "id": "92fe8228",
   "metadata": {
    "id": "92fe8228"
   },
   "source": [
    "Elección de número de clusters:"
   ]
  },
  {
   "cell_type": "code",
   "execution_count": null,
   "id": "b756d243",
   "metadata": {
    "colab": {
     "base_uri": "https://localhost:8080/",
     "height": 281
    },
    "id": "b756d243",
    "outputId": "2a0ae45e-4dc4-4cce-fd45-4195ef7e87fe"
   },
   "outputs": [],
   "source": [
    "cien_sse = []\n",
    "hcso_sse = []\n",
    "\n",
    "clusters = list(range(1, 15))\n",
    "for k in clusters:\n",
    "    km_cien = KMeans(n_clusters=k).fit(cien_data[cien])\n",
    "    km_hcso = KMeans(n_clusters=k).fit(hcso_data[hcso])\n",
    "    cien_sse.append(km_cien.inertia_)\n",
    "    hcso_sse.append(km_hcso.inertia_)\n",
    "\n",
    "plt.plot(clusters, cien_sse, marker=\"o\")\n",
    "plt.plot(clusters, hcso_sse, marker=\"*\")\n",
    "\n",
    "plt.title(\"Método del codo\")\n",
    "plt.grid(True)\n",
    "\n",
    "plt.show()"
   ]
  },
  {
   "cell_type": "markdown",
   "id": "44dbe537",
   "metadata": {
    "id": "44dbe537"
   },
   "source": [
    "Se eligen __6__ clusters utilizando el método del codo."
   ]
  },
  {
   "cell_type": "code",
   "execution_count": null,
   "id": "baa1038d",
   "metadata": {
    "id": "baa1038d"
   },
   "outputs": [],
   "source": [
    "km_cien = KMeans(n_clusters=6).fit(cien_data[cien])\n",
    "km_hcso = KMeans(n_clusters=6).fit(hcso_data[hcso])"
   ]
  },
  {
   "cell_type": "code",
   "execution_count": null,
   "id": "c87004ff",
   "metadata": {
    "colab": {
     "base_uri": "https://localhost:8080/",
     "height": 934
    },
    "id": "c87004ff",
    "outputId": "4c4d95cf-3fcb-4560-d7d2-9268992ed247",
    "scrolled": false
   },
   "outputs": [],
   "source": [
    "fig = plt.figure(figsize=(8, 16))\n",
    "\n",
    "grid = fig.add_gridspec(1, 2)\n",
    "\n",
    "ax1 = fig.add_subplot(grid[0, 0])\n",
    "ax1.scatter(cien_data.lng_alu, cien_data.lat_alu, c=km_cien.labels_, alpha=0.1)\n",
    "ax1.set_ylim((0, 1))\n",
    "ax1.set_xlim((0.35, 0.65))\n",
    "ax1.set_title(\"Ciencias\")\n",
    "\n",
    "ax2 = fig.add_subplot(grid[0, 1])\n",
    "ax2.scatter(hcso_data.lng_alu, hcso_data.lat_alu, c=km_hcso.labels_, alpha=0.1)\n",
    "ax2.set_ylim((0, 1))\n",
    "ax2.set_xlim((0.35, 0.65))\n",
    "ax2.set_title(\"Historia\")\n",
    "\n",
    "plt.show()"
   ]
  },
  {
   "cell_type": "markdown",
   "id": "d8fa9484",
   "metadata": {
    "id": "d8fa9484"
   },
   "source": [
    "Visualmente, no se aprecia una tendencia geográfica clara en el clustering. La excepción es el extremo norte del país, que parece estar agrupado en un solo cluster."
   ]
  },
  {
   "cell_type": "code",
   "execution_count": null,
   "id": "S_J_fQgz-YR5",
   "metadata": {
    "id": "S_J_fQgz-YR5"
   },
   "outputs": [],
   "source": [
    "from sklearn.decomposition import PCA"
   ]
  },
  {
   "cell_type": "code",
   "execution_count": null,
   "id": "667dce74",
   "metadata": {
    "colab": {
     "base_uri": "https://localhost:8080/",
     "height": 500
    },
    "id": "667dce74",
    "outputId": "0bb715aa-038b-4ae8-9256-16eca07ef4b4",
    "scrolled": false
   },
   "outputs": [],
   "source": [
    "pca_cien = pd.DataFrame(PCA(n_components=3).fit_transform(cien_data[cien]))\n",
    "pca_hcso = pd.DataFrame(PCA(n_components=3).fit_transform(hcso_data[hcso]))\n",
    "\n",
    "fig = plt.figure(dpi = 150)\n",
    "grid = fig.add_gridspec(1, 2)\n",
    "\n",
    "ax1 = fig.add_subplot(grid[0, 0], projection=\"3d\")\n",
    "ax1.scatter(pca_cien[0], pca_cien[1], pca_cien[2], c=km_cien.labels_, s=7, alpha=0.5)\n",
    "ax1.set_title(\"Ciencias\")\n",
    "\n",
    "ax2 = fig.add_subplot(grid[0, 1], projection=\"3d\")\n",
    "ax2.scatter(pca_hcso[0], pca_hcso[1], pca_hcso[2], c=km_hcso.labels_, s=7, alpha=0.5)\n",
    "ax2.set_title(\"Historia\")\n",
    "\n",
    "plt.show()"
   ]
  },
  {
   "cell_type": "markdown",
   "id": "0a327540",
   "metadata": {
    "id": "0a327540"
   },
   "source": [
    "Aparentemente, no existen clusters bien demarcados en los datos. Al aplicar PCA y graficar en tres dimensiones no se observa una separación entre los clusters generados, esto es, la distribución de los puntajes muestra cierta continuidad."
   ]
  },
  {
   "cell_type": "code",
   "execution_count": null,
   "id": "2NwS8kJb95QW",
   "metadata": {
    "id": "2NwS8kJb95QW"
   },
   "outputs": [],
   "source": [
    "from sklearn.metrics import silhouette_score"
   ]
  },
  {
   "cell_type": "code",
   "execution_count": null,
   "id": "EmfIhVQ79_WJ",
   "metadata": {
    "colab": {
     "base_uri": "https://localhost:8080/"
    },
    "id": "EmfIhVQ79_WJ",
    "outputId": "060c4b84-e8f0-4228-d099-e9cce934e441"
   },
   "outputs": [],
   "source": [
    "print(\"Silhoutte score\")\n",
    "print(f\"Ciencias: {silhouette_score(cien_data[cien], km_cien.labels_)}\")\n",
    "print(f\"HCSO: {silhouette_score(hcso_data[hcso], km_hcso.labels_)}\")"
   ]
  },
  {
   "cell_type": "markdown",
   "id": "HPsCvkbJAiWW",
   "metadata": {
    "id": "HPsCvkbJAiWW"
   },
   "source": [
    "El coeficiente de silhoutte calculado es bastante bajo, lo que corrobora lo deducido de la visualización anterior.\n",
    "\n",
    "#### Otros conjuntos de atributos\n",
    "\n",
    "Se puede repetir el procedimiento utilizando sólo puntajes y promedio:"
   ]
  },
  {
   "cell_type": "code",
   "execution_count": null,
   "id": "2IKu4n8OQdXS",
   "metadata": {
    "id": "2IKu4n8OQdXS"
   },
   "outputs": [],
   "source": [
    "atrib_cien = [\"prom_notas\", \"ptje_leng\", \"ptje_mate\", \"ptje_cien\"]\n",
    "atrib_hist = [\"prom_notas\", \"ptje_leng\", \"ptje_mate\", \"ptje_hist\"]\n",
    "km_ptje_cien = KMeans(n_clusters = 6).fit(cien_data[atrib_cien])\n",
    "km_ptje_hist = KMeans(n_clusters = 6).fit(hcso_data[atrib_hist])\n",
    "pca_cien = pd.DataFrame(PCA(n_components=2).fit_transform(cien_data[atrib_cien]))\n",
    "pca_hist = pd.DataFrame(PCA(n_components=2).fit_transform(hcso_data[atrib_hist]))"
   ]
  },
  {
   "cell_type": "code",
   "execution_count": null,
   "id": "i7JAF9kpW0Cr",
   "metadata": {
    "colab": {
     "base_uri": "https://localhost:8080/",
     "height": 72
    },
    "id": "i7JAF9kpW0Cr",
    "outputId": "d1d6d410-07db-4a56-add2-9e8bcf57a920"
   },
   "outputs": [],
   "source": [
    "fig = plt.figure()\n",
    "grid = fig.add_gridspec(1, 2)\n",
    "\n",
    "ax1 = fig.add_subplot(grid[0, 0])\n",
    "ax1.scatter(pca_cien[0], pca_cien[1], c=km_ptje_cien.labels_, s=5)\n",
    "ax1.set_title(\"Ciencias\")\n",
    "\n",
    "ax2 = fig.add_subplot(grid[0, 1])\n",
    "ax2.scatter(pca_hist[0], pca_hist[1], c=km_ptje_hist.labels_, s=5)"
   ]
  },
  {
   "cell_type": "markdown",
   "id": "AfS-3ikfcw-0",
   "metadata": {
    "id": "AfS-3ikfcw-0"
   },
   "source": [
    "... pero el resultado es similar. Los datos no tienen una distribución uniforme, pero tampoco están separados. En vista de esto, no parece razonable seguir intentando métodos de clustering."
   ]
  },
  {
   "cell_type": "markdown",
   "id": "-ZFOeKvxc5Wb",
   "metadata": {
    "id": "-ZFOeKvxc5Wb"
   },
   "source": [
    "### Clasificación\n",
    "\n",
    "El objetivo en esta sección es intentar predecir algún atributo en base a otros. \n",
    "\n",
    "#### COD_DEPE\n",
    "\n",
    "El atributo a predecir es el código de dependencia."
   ]
  },
  {
   "cell_type": "code",
   "execution_count": null,
   "id": "bntllTgP1Hlf",
   "metadata": {
    "id": "bntllTgP1Hlf"
   },
   "outputs": [],
   "source": [
    "from sklearn.tree import DecisionTreeClassifier\n",
    "from sklearn import svm\n",
    "from sklearn.metrics import accuracy_score, classification_report\n",
    "from sklearn.model_selection import train_test_split"
   ]
  },
  {
   "cell_type": "code",
   "execution_count": null,
   "id": "dprRaSQrpePK",
   "metadata": {
    "id": "dprRaSQrpePK"
   },
   "outputs": [],
   "source": [
    "datos_col_alu[\"RURAL_RBD_CODES\"] = datos_col_alu.RURAL_RBD.cat.codes\n",
    "datos_col_alu[\"GEN_ALU_CODES\"] = datos_col_alu.GEN_ALU.cat.codes\n",
    "\n",
    "atributos = [#\"RURAL_RBD_CODES\", \n",
    "             \"GEN_ALU_CODES\", \n",
    "             \"PROMEDIO_NOTAS\", \n",
    "             \"CLEC_ACTUAL\", \"MATE_ACTUAL\", \"HCSO_ACTUAL\", \"CIEN_ACTUAL\",\n",
    "             \"lng_col\", \"lat_col\", \"lng_alu\", \"lat_alu\"]\n",
    "\n",
    "x_train, x_test, y_train, y_test = train_test_split(datos_col_alu[atributos],\n",
    "                                                    datos_col_alu.COD_DEPE2,\n",
    "                                                    test_size = 0.30,\n",
    "                                                    stratify=datos_col_alu.COD_DEPE2)"
   ]
  },
  {
   "cell_type": "markdown",
   "id": "2f6td5ti4Fjg",
   "metadata": {
    "id": "2f6td5ti4Fjg"
   },
   "source": [
    "---\n",
    "##### Decision Tree"
   ]
  },
  {
   "cell_type": "code",
   "execution_count": null,
   "id": "bJ_DAxtH4IjA",
   "metadata": {
    "colab": {
     "base_uri": "https://localhost:8080/"
    },
    "id": "bJ_DAxtH4IjA",
    "outputId": "dc07dd48-628f-4517-ee2f-2bc1507bcca0"
   },
   "outputs": [],
   "source": [
    "classifier = DecisionTreeClassifier()\n",
    "classifier.fit(x_train, y_train)\n",
    "\n",
    "y_pred = classifier.predict(x_test)\n",
    "\n",
    "print(f\"Accuracy: {accuracy_score(y_test, y_pred)}\")\n",
    "print(classification_report(y_test, y_pred))"
   ]
  },
  {
   "cell_type": "markdown",
   "id": "BAfEeat3X-3x",
   "metadata": {
    "id": "BAfEeat3X-3x"
   },
   "source": [
    "###### Cross validation\n",
    "\n",
    "El valor ideal para el número de folds suele variar entre 5 y 10, recorremos estos valores y nos quedamos con aquel que genere el mejor rendimiento"
   ]
  },
  {
   "cell_type": "code",
   "execution_count": null,
   "id": "aHwZXARSZ7Nk",
   "metadata": {
    "colab": {
     "base_uri": "https://localhost:8080/"
    },
    "id": "aHwZXARSZ7Nk",
    "outputId": "0f017d33-d18a-4461-f5a5-f8a2feaf41a9",
    "scrolled": true
   },
   "outputs": [],
   "source": [
    "from sklearn.model_selection import cross_validate\n",
    "\n",
    "\n",
    "\n",
    "for i in range (5,11):\n",
    "  print(f\"Resultados para {i} folds\")\n",
    "  scoring = ['precision_macro', 'recall_macro', 'accuracy', 'f1_macro']\n",
    "\n",
    "  X = datos_col_alu[atributos]\n",
    "  y = datos_col_alu.COD_DEPE2\n",
    "\n",
    "  cv_results = cross_validate(classifier, X, y, cv = 10, scoring = scoring, return_train_score= True)\n",
    "\n",
    "  print('Promedio Precision:', np.mean(cv_results['test_precision_macro']))\n",
    "  print('Promedio Recall:', np.mean(cv_results['test_recall_macro']))\n",
    "  print('Promedio F1-score:', np.mean(cv_results['test_f1_macro']))\n",
    "  print('Promedio Accuracy:', np.mean(cv_results['test_accuracy']))"
   ]
  },
  {
   "cell_type": "markdown",
   "id": "21fe6f16",
   "metadata": {},
   "source": [
    "---\n",
    "#####  Comparativa de clasificadores"
   ]
  },
  {
   "cell_type": "code",
   "execution_count": null,
   "id": "qgA3BUMngCGt",
   "metadata": {
    "id": "qgA3BUMngCGt"
   },
   "outputs": [],
   "source": [
    "from sklearn.metrics import f1_score, recall_score, precision_score\n",
    "from sklearn.model_selection import train_test_split\n",
    "import numpy as np\n",
    "import sys\n",
    "\n",
    "def run_classifier(clf, X, y, num_tests):\n",
    "    metrics = {'f1-score': [], 'precision': [], 'recall': []}\n",
    "    \n",
    "    print(\"[\", end=\"\")\n",
    "    for _ in range(num_tests):\n",
    "        X_train, X_test, y_train, y_test = train_test_split(X, y, test_size=.30)\n",
    "        clf.fit(X_train, y_train)\n",
    "        predictions = clf.predict(X_test)\n",
    "        \n",
    "        metrics['y_pred'] = predictions\n",
    "        metrics['f1-score'].append(f1_score(y_test, predictions, average='micro')) \n",
    "        metrics['recall'].append(recall_score(y_test, predictions, average='micro'))\n",
    "        metrics['precision'].append(precision_score(y_test, predictions, average='micro'))\n",
    "        \n",
    "        print(\"=\", end=\"\")\n",
    "        sys.stdout.flush()\n",
    "    print(\"]\")\n",
    "    \n",
    "    return metrics"
   ]
  },
  {
   "cell_type": "code",
   "execution_count": null,
   "id": "DQAIQk1xiJ8i",
   "metadata": {
    "colab": {
     "base_uri": "https://localhost:8080/"
    },
    "id": "DQAIQk1xiJ8i",
    "outputId": "7f6b275c-e9db-440f-b881-dbec9bad3dc0"
   },
   "outputs": [],
   "source": [
    "from sklearn.datasets import load_breast_cancer\n",
    "from sklearn.dummy import DummyClassifier\n",
    "from sklearn.tree import DecisionTreeClassifier\n",
    "from sklearn.naive_bayes import GaussianNB  # naive bayes\n",
    "from sklearn.neighbors import KNeighborsClassifier\n",
    "from sklearn.svm import SVC  # support vector machine classifier\n",
    "\n",
    "X = datos_col_alu[atributos]\n",
    "y = datos_col_alu.COD_DEPE2\n",
    "\n",
    "print(X.shape)\n",
    "print(y.shape)\n",
    "\n",
    "c0 = (\"Base Dummy\", DummyClassifier(strategy='stratified'))\n",
    "c1 = (\"Decision Tree\", DecisionTreeClassifier(max_depth=5))\n",
    "c2 = (\"Gaussian Naive Bayes\", GaussianNB())\n",
    "c3 = (\"KNN\", KNeighborsClassifier(n_neighbors=10))\n",
    "c4 = (\"Support Vector Machines\", SVC())\n",
    "\n",
    "classifiers = [c0, c1, c2, c3, c4]\n",
    "\n",
    "results = {}\n",
    "for name, clf in classifiers:\n",
    "    metrics = run_classifier(clf, X, y, 3)   # hay que implementarla en el bloque anterior.\n",
    "    results[name] = metrics\n",
    "    print(\"----------------\")\n",
    "    print(\"Resultados para clasificador: \", name) \n",
    "    print(\"Precision promedio:\", np.array(metrics['precision']).mean())\n",
    "    print(\"Recall promedio:\", np.array(metrics['recall']).mean())\n",
    "    print(\"F1-score promedio:\", np.array(metrics['f1-score']).mean())\n",
    "    print(\"----------------\\n\\n\") "
   ]
  },
  {
   "cell_type": "markdown",
   "id": "KnRocLRws4VA",
   "metadata": {
    "id": "KnRocLRws4VA"
   },
   "source": [
    "Decision Tree ofrece el menor trade-off entre precision y recall, entre los resultados de cada clasificador. Este será el clasificador que escogeremos."
   ]
  },
  {
   "cell_type": "code",
   "execution_count": null,
   "id": "pO97B-qhiMY2",
   "metadata": {
    "id": "pO97B-qhiMY2"
   },
   "outputs": [],
   "source": []
  }
 ],
 "metadata": {
  "celltoolbar": "Raw Cell Format",
  "colab": {
   "collapsed_sections": [
    "2dfbab71",
    "4d24de68",
    "656f5f17",
    "7a2c854a",
    "8c46ffd2",
    "ef6f546c",
    "a7dd7da6",
    "87b651f2",
    "2a2e75bd",
    "9921e691",
    "01833aaa",
    "dc9c33ac",
    "d2a47cee",
    "6d88eb09-1a46-4904-9bc6-fcc9be5f5d50",
    "6601ee91-36d8-4ad1-bb44-91401ec170e4",
    "aa46cacc",
    "HPsCvkbJAiWW"
   ],
   "name": "informe_final.ipynb",
   "provenance": []
  },
  "kernelspec": {
   "display_name": "Python 3 (ipykernel)",
   "language": "python",
   "name": "python3"
  },
  "language_info": {
   "codemirror_mode": {
    "name": "ipython",
    "version": 3
   },
   "file_extension": ".py",
   "mimetype": "text/x-python",
   "name": "python",
   "nbconvert_exporter": "python",
   "pygments_lexer": "ipython3",
   "version": "3.9.7"
  }
 },
 "nbformat": 4,
 "nbformat_minor": 5
}
